{
  "nbformat": 4,
  "nbformat_minor": 0,
  "metadata": {
    "colab": {
      "provenance": [],
      "authorship_tag": "ABX9TyNiobH9cMMBLKbWMxB5Vawq",
      "include_colab_link": true
    },
    "kernelspec": {
      "name": "python3",
      "display_name": "Python 3"
    },
    "language_info": {
      "name": "python"
    }
  },
  "cells": [
    {
      "cell_type": "markdown",
      "metadata": {
        "id": "view-in-github",
        "colab_type": "text"
      },
      "source": [
        "<a href=\"https://colab.research.google.com/github/Vakhranev/Heritage/blob/main/%D0%A2%D0%B0%D0%B1%D0%BB%D0%B8%D1%86%D1%8B%20%D0%BA%D0%B0%D1%82%D0%B5%D0%B3%D0%BE%D1%80%D0%B8%D0%B9%20%D0%BD%D1%83%D0%BB%D0%B5%D0%B2%D1%8B%D1%85%20%D0%B7%D0%BD%D0%B0%D1%87%D0%B5%D0%BD%D0%B8%D0%B9.ipynb\" target=\"_parent\"><img src=\"https://colab.research.google.com/assets/colab-badge.svg\" alt=\"Open In Colab\"/></a>"
      ]
    },
    {
      "cell_type": "code",
      "execution_count": 12,
      "metadata": {
        "colab": {
          "base_uri": "https://localhost:8080/"
        },
        "id": "pZtcYZgeDFRE",
        "outputId": "95d3a549-9a8a-4414-b9b3-7f411c42d2b2"
      },
      "outputs": [
        {
          "output_type": "stream",
          "name": "stdout",
          "text": [
            "Таблицы успешно созданы!\n"
          ]
        }
      ],
      "source": [
        "import pandas as pd\n",
        "import random\n",
        "import json\n",
        "\n",
        "# Загрузка данных из JSON\n",
        "with open('america_texts.json', 'r', encoding='utf-8') as f:\n",
        "    student_data = json.load(f)\n",
        "with open('lib_texts.json', 'r', encoding='utf-8') as f:\n",
        "    literature_data = json.load(f)\n",
        "\n",
        "# Выбор случайных 100 биграмм с нулевым T-Score для студенческих работ\n",
        "student_bigrams = []\n",
        "for entry in student_data.values():\n",
        "    bigrams = entry.get(\"bigrams_unique\", {})\n",
        "    for bigram, details in bigrams.items():\n",
        "        if details[\"t_score\"] == 0:\n",
        "            student_bigrams.append({\n",
        "                \"Bigram\": bigram,\n",
        "                \"Frequency\": entry[\"bigrams_freq\"].get(bigram, 0),\n",
        "                \"Category\": \"\",  # Пустое поле для категории\n",
        "                \"Comment\": \"\"    # Пустое поле для комментария\n",
        "            })\n",
        "\n",
        "# Выбор случайных 100 биграмм с нулевым T-Score для художественных текстов\n",
        "literature_bigrams = []\n",
        "for entry in literature_data.values():\n",
        "    bigrams = entry.get(\"bigrams_unique\", {})\n",
        "    for bigram, details in bigrams.items():\n",
        "        if details[\"t_score\"] == 0:\n",
        "            literature_bigrams.append({\n",
        "                \"Bigram\": bigram,\n",
        "                \"Frequency\": entry[\"bigrams_freq\"].get(bigram, 0),\n",
        "                \"Category\": \"\",  # Пустое поле для категории\n",
        "                \"Comment\": \"\"    # Пустое поле для комментария\n",
        "            })\n",
        "\n",
        "# Случайный выбор 100 биграмм из каждого списка\n",
        "random_student_bigrams = random.sample(student_bigrams, min(100, len(student_bigrams)))\n",
        "random_literature_bigrams = random.sample(literature_bigrams, min(100, len(literature_bigrams)))\n",
        "\n",
        "# Создание таблицы для студенческих текстов\n",
        "student_df = pd.DataFrame(random_student_bigrams)\n",
        "\n",
        "# Создание таблицы для художественных текстов\n",
        "literature_df = pd.DataFrame(random_literature_bigrams)\n",
        "\n",
        "# Сохранение таблиц в Excel\n",
        "student_df.to_excel(\"student_bigrams.xlsx\", index=False, sheet_name=\"Students\")\n",
        "literature_df.to_excel(\"literature_bigrams.xlsx\", index=False, sheet_name=\"Literature\")\n",
        "\n",
        "print(\"Таблицы успешно созданы!\")"
      ]
    }
  ]
}