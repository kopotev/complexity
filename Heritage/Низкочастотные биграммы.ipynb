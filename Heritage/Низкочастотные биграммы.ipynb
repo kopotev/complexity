{
  "nbformat": 4,
  "nbformat_minor": 0,
  "metadata": {
    "colab": {
      "provenance": [],
      "authorship_tag": "ABX9TyP8KQDL14++lUbIIuQaJnYi",
      "include_colab_link": true
    },
    "kernelspec": {
      "name": "python3",
      "display_name": "Python 3"
    },
    "language_info": {
      "name": "python"
    }
  },
  "cells": [
    {
      "cell_type": "markdown",
      "metadata": {
        "id": "view-in-github",
        "colab_type": "text"
      },
      "source": [
        "<a href=\"https://colab.research.google.com/github/Vakhranev/Heritage/blob/main/%D0%9D%D0%B8%D0%B7%D0%BA%D0%BE%D1%87%D0%B0%D1%81%D1%82%D0%BE%D1%82%D0%BD%D1%8B%D0%B5%20%D0%B1%D0%B8%D0%B3%D1%80%D0%B0%D0%BC%D0%BC%D1%8B.ipynb\" target=\"_parent\"><img src=\"https://colab.research.google.com/assets/colab-badge.svg\" alt=\"Open In Colab\"/></a>"
      ]
    },
    {
      "cell_type": "code",
      "execution_count": 16,
      "metadata": {
        "colab": {
          "base_uri": "https://localhost:8080/"
        },
        "id": "ML5JV3NEhNDc",
        "outputId": "da211518-2cef-420f-f63c-52aa78499992"
      },
      "outputs": [
        {
          "output_type": "stream",
          "name": "stdout",
          "text": [
            "Найденные биграммы записаны в файл matched_bigrams_with_t_score.csv.\n"
          ]
        }
      ],
      "source": [
        "import json\n",
        "import csv\n",
        "\n",
        "# Пути к файлам\n",
        "json_file = 'updated_america_texts_last.json'\n",
        "csv_file = 'cococo_bigram_freq.csv'\n",
        "output_file = 'matched_bigrams_with_t_score.csv'\n",
        "\n",
        "# Сбор биграмм с t_score = 0 из JSON\n",
        "def extract_zero_tscore_bigrams(json_file):\n",
        "    zero_tscore_bigrams = set()\n",
        "    with open(json_file, 'r', encoding='utf-8') as f:\n",
        "        data = json.load(f)\n",
        "        for item in data.values():\n",
        "            bigrams_unique = item.get(\"bigrams_unique\", {})\n",
        "            for bigram, metrics in bigrams_unique.items():\n",
        "                if metrics.get(\"t_score\") == 0:\n",
        "                    zero_tscore_bigrams.add(bigram)\n",
        "    return zero_tscore_bigrams\n",
        "\n",
        "# Поиск биграмм из JSON в CSV\n",
        "def find_bigrams_in_csv(bigrams, csv_file, output_file):\n",
        "    matched_bigrams = []\n",
        "    with open(csv_file, 'r', encoding='utf-8') as f:\n",
        "        reader = csv.DictReader(f)\n",
        "        for row in reader:\n",
        "            bigram = row.get(\"bigram\")\n",
        "            t_score = row.get(\"t_score\")\n",
        "            if bigram in bigrams:\n",
        "                matched_bigrams.append((bigram, t_score))\n",
        "\n",
        "    # Запись результата в новый CSV файл\n",
        "    with open(output_file, 'w', encoding='utf-8', newline='') as f:\n",
        "        writer = csv.writer(f)\n",
        "        writer.writerow([\"bigram\", \"t_score\"])\n",
        "        writer.writerows(matched_bigrams)\n",
        "\n",
        "# Основной блок\n",
        "zero_tscore_bigrams = extract_zero_tscore_bigrams(json_file)\n",
        "find_bigrams_in_csv(zero_tscore_bigrams, csv_file, output_file)\n",
        "\n",
        "print(f\"Найденные биграммы записаны в файл {output_file}.\")"
      ]
    },
    {
      "cell_type": "code",
      "source": [
        "import json\n",
        "import csv\n",
        "\n",
        "# Пути к файлам\n",
        "json_file = 'updated_america_texts_last.json'\n",
        "csv_file = 'cococo_bigram_freq.csv'\n",
        "output_file = 'matched_bigrams_reverse.csv'\n",
        "\n",
        "# Сбор биграмм с t_score ≤ 3 из CSV\n",
        "def extract_low_tscore_bigrams(csv_file):\n",
        "    low_tscore_bigrams = {}\n",
        "    with open(csv_file, 'r', encoding='utf-8') as f:\n",
        "        reader = csv.DictReader(f)\n",
        "        for row in reader:\n",
        "            try:\n",
        "                t_score = float(row.get(\"t_score\", 0))\n",
        "                if t_score <= 3:\n",
        "                    bigram = row.get(\"bigram\")\n",
        "                    if bigram:\n",
        "                        low_tscore_bigrams[bigram] = t_score\n",
        "            except ValueError:\n",
        "                continue  # Пропуск некорректных значений\n",
        "    return low_tscore_bigrams\n",
        "\n",
        "# Поиск биграмм из CSV в JSON\n",
        "def find_bigrams_in_json(bigrams, json_file, output_file):\n",
        "    matched_bigrams = []\n",
        "    with open(json_file, 'r', encoding='utf-8') as f:\n",
        "        data = json.load(f)\n",
        "        for item in data.values():\n",
        "            bigrams_unique = item.get(\"bigrams_unique\", {})\n",
        "            for bigram, metrics in bigrams_unique.items():\n",
        "                if bigram in bigrams:\n",
        "                    json_t_score = metrics.get(\"t_score\", None)\n",
        "                    csv_t_score = bigrams[bigram]\n",
        "                    matched_bigrams.append((bigram, csv_t_score, json_t_score))\n",
        "\n",
        "    # Запись результата в новый CSV файл\n",
        "    with open(output_file, 'w', encoding='utf-8', newline='') as f:\n",
        "        writer = csv.writer(f)\n",
        "        writer.writerow([\"bigram\", \"csv_t_score\", \"json_t_score\"])\n",
        "        writer.writerows(matched_bigrams)\n",
        "\n",
        "# Основной блок\n",
        "low_tscore_bigrams = extract_low_tscore_bigrams(csv_file)\n",
        "find_bigrams_in_json(low_tscore_bigrams, json_file, output_file)\n",
        "\n",
        "print(f\"Найденные биграммы записаны в файл {output_file}.\")"
      ],
      "metadata": {
        "colab": {
          "base_uri": "https://localhost:8080/"
        },
        "id": "ViDZbdn3t9AH",
        "outputId": "74e17168-1cf7-440f-e3bd-422ffaf1b315"
      },
      "execution_count": 18,
      "outputs": [
        {
          "output_type": "stream",
          "name": "stdout",
          "text": [
            "Найденные биграммы записаны в файл matched_bigrams_reverse.csv.\n"
          ]
        }
      ]
    }
  ]
}