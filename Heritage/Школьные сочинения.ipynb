{
  "nbformat": 4,
  "nbformat_minor": 0,
  "metadata": {
    "colab": {
      "provenance": [],
      "authorship_tag": "ABX9TyOcIWCSrO2s9oCGcui0SxXO",
      "include_colab_link": true
    },
    "kernelspec": {
      "name": "python3",
      "display_name": "Python 3"
    },
    "language_info": {
      "name": "python"
    }
  },
  "cells": [
    {
      "cell_type": "markdown",
      "metadata": {
        "id": "view-in-github",
        "colab_type": "text"
      },
      "source": [
        "<a href=\"https://colab.research.google.com/github/Vakhranev/Heritage/blob/main/%D0%A8%D0%BA%D0%BE%D0%BB%D1%8C%D0%BD%D1%8B%D0%B5%20%D1%81%D0%BE%D1%87%D0%B8%D0%BD%D0%B5%D0%BD%D0%B8%D1%8F.ipynb\" target=\"_parent\"><img src=\"https://colab.research.google.com/assets/colab-badge.svg\" alt=\"Open In Colab\"/></a>"
      ]
    },
    {
      "cell_type": "code",
      "execution_count": 2,
      "metadata": {
        "id": "7xFSmlOCUZpz"
      },
      "outputs": [],
      "source": [
        "import json\n",
        "import re\n",
        "from collections import Counter\n",
        "\n",
        "# Функция для очистки текста от знаков препинания и приведения к нижнему регистру\n",
        "def clean_text(text):\n",
        "    # Приводим текст к нижнему регистру\n",
        "    text = text.lower()\n",
        "    # Удаляем знаки препинания, кроме дефисов внутри слов\n",
        "    return re.sub(r'(?<!\\w)-|[^\\w\\s-]', '', text)\n",
        "\n",
        "# Функция для подсчёта биграмм в тексте\n",
        "def count_bigrams(text):\n",
        "    tokens = text.split()\n",
        "    bigrams = zip(tokens, tokens[1:])\n",
        "    bigram_freq = Counter(bigrams)\n",
        "    return bigram_freq\n",
        "\n",
        "# Загрузка значений t_score из файла\n",
        "def load_t_scores(filename):\n",
        "    try:\n",
        "        with open(filename, 'r', encoding='utf-8') as f:\n",
        "            return json.load(f)\n",
        "    except UnicodeDecodeError as e:\n",
        "        print(f\"UnicodeDecodeError: {e}\")\n",
        "        print(\"Попробуем открыть файл в другой кодировке...\")\n",
        "        with open(filename, 'r', encoding='latin1') as f:\n",
        "            return json.load(f)\n",
        "\n",
        "# Функция для проверки и корректировки биграммы с ё\n",
        "def check_yo_in_bigram(bigram, t_scores):\n",
        "    bigram_yo = bigram.replace('ё', 'е')  # Версия биграммы с \"е\"\n",
        "\n",
        "    # Сначала проверяем исходную биграмму\n",
        "    if bigram in t_scores:\n",
        "        return t_scores[bigram]\n",
        "\n",
        "    # Если исходной нет, проверяем версию с \"е\"\n",
        "    if bigram_yo in t_scores:\n",
        "        return t_scores[bigram_yo]\n",
        "\n",
        "    # Если обе версии отсутствуют, возвращаем 0\n",
        "    return 0\n",
        "\n",
        "def generate_json(input_txt, t_score_file, output_file):\n",
        "    # Загрузка данных\n",
        "    with open(input_txt, 'r', encoding='utf-8') as f:\n",
        "        texts = f.read().strip().split('\\n\\n')\n",
        "\n",
        "    t_scores = load_t_scores(t_score_file)\n",
        "\n",
        "    result = {}\n",
        "\n",
        "    for idx, text in enumerate(texts):\n",
        "        key = f\"EC12-B1-{str(idx).zfill(4)}_tagged\"  # Уникальный ключ для каждого текста\n",
        "\n",
        "        # Очистка текста\n",
        "        clean_text_content = clean_text(text)\n",
        "\n",
        "        # Токенизация текста\n",
        "        tokens = clean_text_content.split()\n",
        "\n",
        "        # Подсчёт частоты биграмм\n",
        "        bigram_freq = count_bigrams(clean_text_content)\n",
        "        bigram_freq = {\" \".join(bigram): freq for bigram, freq in bigram_freq.items()}\n",
        "\n",
        "        # Формирование биграмм с t_score\n",
        "        bigrams_unique = {}\n",
        "        for bigram, freq in bigram_freq.items():\n",
        "            t_score = check_yo_in_bigram(bigram, t_scores)  # Используем t_score с проверкой ё/е\n",
        "            bigrams_unique[bigram] = {\"t_score\": t_score}\n",
        "\n",
        "        # Сохранение результатов\n",
        "        result[key] = {\n",
        "            \"text\": text,\n",
        "            \"tokens\": tokens,\n",
        "            \"bigrams_freq\": bigram_freq,\n",
        "            \"bigrams_unique\": bigrams_unique\n",
        "        }\n",
        "\n",
        "    # Запись в файл\n",
        "    with open(output_file, 'w', encoding='utf-8') as f:\n",
        "        json.dump(result, f, ensure_ascii=False, indent=4)\n",
        "\n",
        "# Пример использования\n",
        "input_txt = \"school.txt\"\n",
        "t_score_file = \"cleaned_t_score_file.json\"\n",
        "output_file = \"final_school.json\"\n",
        "\n",
        "generate_json(input_txt, t_score_file, output_file)"
      ]
    },
    {
      "cell_type": "code",
      "source": [
        "def debug_file(filename, problematic_char):\n",
        "    with open(filename, 'rb') as f:\n",
        "        f.seek(max(0, problematic_char - 100))  # Переместиться к проблемному байту\n",
        "        snippet = f.read(200)  # Прочитать 200 байт вокруг проблемы\n",
        "        print(f\"Проблемный участок в байтах: {snippet}\")\n",
        "\n",
        "# Укажите позицию проблемы\n",
        "debug_file(\"cococo_bigram_t_score_normalized.json\", 231735296)"
      ],
      "metadata": {
        "colab": {
          "base_uri": "https://localhost:8080/"
        },
        "id": "rUYrXcS0YDSm",
        "outputId": "62c1b3a5-2027-4d72-ae63-4bcaea82401f"
      },
      "execution_count": null,
      "outputs": [
        {
          "output_type": "stream",
          "name": "stdout",
          "text": [
            "Проблемный участок в байтах: b'\\xd1\\x82\\xd0\\xb8\\xd0\\xb5 \\xd0\\xb3\\xd0\\xbe\\xd1\\x80\\xd0\\xb5\\xd1\\x87\\xd0\\xb8\": 0.006381291629472205, \"\\xd0\\xb2\\xd0\\xbe\\xd1\\x81\\xd0\\xbf\\xd1\\x80\\xd0\\xbe\\xd0\\xb8\\xd0\\xb7\\xd0\\xb2\\xd0\\xbe\\xd0\\xb4\\xd0\\xb8\\xd0\\xbc\\xd1\\x8b\\xd0\\xbc\\xd0\\xb8 \\xd1\\x81\\xd0\\xb2\\xd0\\xbe\\xd0\\xb9\\xd1\\x81\\xd1\\x82\\xd0\\xb2\\xd0\\xb0\\xd0\\xbc\\xd0\\xb8\": 0.006381291629472205, \"\\xd0\\xb2\\xd0\\xbe\\xd1\\x81\\xd1\\x81\\xd1\\x82\\xd0\\xb0\\xd0\\xbd\\xd0\\xb0\\xd0\\xb2\\xd0\\xbb\\xd0\\xb8\\xd0\\xb2\\xd0\\xb0\\xd1\\x8e\\xd1\\x82 \\xd0\\xb8\\xd1\\x81\\xd1\\x82\\xd0\\xb8\\xd0\\xbd\\xd1\\x83\": 0.006381291629472205, \"\\xd0\\xb2\\xd0\\xbe\\xd0\\xbe\\xd0'\n"
          ]
        }
      ]
    },
    {
      "cell_type": "code",
      "source": [
        "def clean_json_lines(filename, output_filename):\n",
        "    import json\n",
        "\n",
        "    with open(filename, 'r', encoding='utf-8', errors='ignore') as f:\n",
        "        lines = f.readlines()\n",
        "\n",
        "    valid_lines = []\n",
        "    for line in lines:\n",
        "        try:\n",
        "            json.loads(line)  # Проверяем строку на корректность\n",
        "            valid_lines.append(line)\n",
        "        except json.JSONDecodeError:\n",
        "            continue  # Пропускаем некорректные строки\n",
        "\n",
        "    with open(output_filename, 'w', encoding='utf-8') as f:\n",
        "        f.writelines(valid_lines)\n",
        "\n",
        "    print(f\"Чистый файл сохранен в {output_filename}.\")"
      ],
      "metadata": {
        "id": "_mVK9l-xZQ78"
      },
      "execution_count": null,
      "outputs": []
    },
    {
      "cell_type": "code",
      "source": [
        "clean_json_lines(\"cococo_bigram_t_score_normalized.json\", \"cleaned_t_score_file.json\")"
      ],
      "metadata": {
        "colab": {
          "base_uri": "https://localhost:8080/"
        },
        "id": "HzERLd9jZV9a",
        "outputId": "d868b654-5972-4f79-8084-72176502f0f3"
      },
      "execution_count": null,
      "outputs": [
        {
          "output_type": "stream",
          "name": "stdout",
          "text": [
            "Чистый файл сохранен в cleaned_t_score_file.json.\n"
          ]
        }
      ]
    }
  ]
}