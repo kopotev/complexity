{
  "nbformat": 4,
  "nbformat_minor": 0,
  "metadata": {
    "colab": {
      "provenance": [],
      "authorship_tag": "ABX9TyNW+HEdW/6Y2qvVZP8xCv2F",
      "include_colab_link": true
    },
    "kernelspec": {
      "name": "python3",
      "display_name": "Python 3"
    },
    "language_info": {
      "name": "python"
    }
  },
  "cells": [
    {
      "cell_type": "markdown",
      "metadata": {
        "id": "view-in-github",
        "colab_type": "text"
      },
      "source": [
        "<a href=\"https://colab.research.google.com/github/Vakhranev/Heritage/blob/main/Best%20t-scores.ipynb\" target=\"_parent\"><img src=\"https://colab.research.google.com/assets/colab-badge.svg\" alt=\"Open In Colab\"/></a>"
      ]
    },
    {
      "cell_type": "code",
      "execution_count": 1,
      "metadata": {
        "id": "WHHqEHNX3S82"
      },
      "outputs": [],
      "source": [
        "import json\n",
        "\n",
        "def get_top_t_scores(t_score_file, output_file, top_n=3651):\n",
        "    # Загрузка t_scores\n",
        "    with open(t_score_file, 'r', encoding='utf-8') as f:\n",
        "        t_scores = json.load(f)\n",
        "\n",
        "    # Сортировка биграмм по t_score в убывающем порядке\n",
        "    top_bigrams = dict(sorted(t_scores.items(), key=lambda x: x[1], reverse=True)[:top_n])\n",
        "\n",
        "    # Запись в новый JSON-файл\n",
        "    with open(output_file, 'w', encoding='utf-8') as f:\n",
        "        json.dump(top_bigrams, f, ensure_ascii=False, indent=4)\n",
        "\n",
        "# Пример использования\n",
        "get_top_t_scores('t_scores.json', 'top_3651_t_scores.json')"
      ]
    }
  ]
}