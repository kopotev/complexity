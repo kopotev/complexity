{
  "nbformat": 4,
  "nbformat_minor": 0,
  "metadata": {
    "colab": {
      "provenance": [],
      "authorship_tag": "ABX9TyP+Z8RP0lljiyFl82HBFKjG",
      "include_colab_link": true
    },
    "kernelspec": {
      "name": "python3",
      "display_name": "Python 3"
    },
    "language_info": {
      "name": "python"
    }
  },
  "cells": [
    {
      "cell_type": "markdown",
      "metadata": {
        "id": "view-in-github",
        "colab_type": "text"
      },
      "source": [
        "<a href=\"https://colab.research.google.com/github/Vakhranev/MDB/blob/main/%D0%9F%D1%80%D0%BE%D0%B2%D0%B5%D1%80%D0%BA%D0%B0_%D1%83%D1%80%D0%BE%D0%B2%D0%BD%D1%8F_A2%20%D1%81%20Unmatched%20Lemmas.ipynb\" target=\"_parent\"><img src=\"https://colab.research.google.com/assets/colab-badge.svg\" alt=\"Open In Colab\"/></a>"
      ]
    },
    {
      "cell_type": "code",
      "source": [
        "import pandas as pd"
      ],
      "metadata": {
        "id": "7RbHZPN6AUhK"
      },
      "execution_count": 22,
      "outputs": []
    },
    {
      "cell_type": "code",
      "execution_count": 23,
      "metadata": {
        "id": "0Fh-fIQSrb7O",
        "colab": {
          "base_uri": "https://localhost:8080/",
          "height": 433
        },
        "outputId": "312f299c-c925-4b00-a29b-bbeb1240dd6d"
      },
      "outputs": [
        {
          "output_type": "stream",
          "name": "stdout",
          "text": [
            "7.203196347031963\n"
          ]
        },
        {
          "output_type": "stream",
          "name": "stderr",
          "text": [
            "<ipython-input-23-5be5255d2360>:118: MatplotlibDeprecationWarning: The seaborn styles shipped by Matplotlib are deprecated since 3.6, as they no longer correspond to the styles shipped by seaborn. However, they will remain available as 'seaborn-v0_8-<style>'. Alternatively, directly use the seaborn API instead.\n",
            "  plt.style.use('seaborn')\n"
          ]
        },
        {
          "output_type": "display_data",
          "data": {
            "text/plain": [
              "<Figure size 1000x500 with 1 Axes>"
            ],
            "image/png": "[encoded data removed]"
          },
          "metadata": {}
        }
      ],
      "source": [
        "import glob\n",
        "import os\n",
        "from pymystem3 import Mystem\n",
        "import string\n",
        "import csv\n",
        "import matplotlib.pyplot as plt\n",
        "import numpy as np\n",
        "\n",
        "mystem = Mystem()\n",
        "\n",
        "# Folder path with students' texts\n",
        "students_path = r\"/content/Students_texts\"\n",
        "text_contents = {}\n",
        "\n",
        "# List to store the number of unique lemmas for each text\n",
        "x_data = []\n",
        "\n",
        "for text_path in glob.glob(students_path + \"/*.txt\"):\n",
        "    with open(text_path, \"r\", encoding='utf-8') as file:\n",
        "        file_name = os.path.basename(text_path)  # The keys are file names\n",
        "        text = file.read()\n",
        "        lemmas = [lemma for lemma in mystem.lemmatize(text)\n",
        "                  if lemma.strip() and not all(c in string.punctuation or c.isspace() for c in lemma)\n",
        "                  and not any(c.isalpha() and ord(c) < 128 for c in lemma)]\n",
        "        lemmas = list(set(lemmas))\n",
        "        x_data.append(len(lemmas))\n",
        "        text_contents[file_name] = lemmas\n",
        "\n",
        "# Load frequency dictionary for each thousand words\n",
        "df = pd.read_csv('ru_m3.csv', sep=';')\n",
        "df.index = np.arange(1, len(df) + 1)\n",
        "df = df[['Lemma', 'CEFR']]\n",
        "mark1 = \"a1\"\n",
        "mark2 = \"a2\"\n",
        "mark3 = \"b1\"\n",
        "mark4 = \"b2\"\n",
        "mark5 = \"A1\"\n",
        "mark6 = \"A2\"\n",
        "mark7 = \"B1\"\n",
        "mark8 = \"B2\"\n",
        "dc1 = df.query('CEFR == @mark1 | CEFR == @mark5')\n",
        "dc2 = df.query('CEFR == @mark2 | CEFR == @mark6')\n",
        "dc3 = df.query('CEFR == @mark3 | CEFR == @mark7')\n",
        "dc4 = df.query('CEFR == @mark4 | CEFR == @mark8')\n",
        "\n",
        "l = []\n",
        "for word in dc1['Lemma']:\n",
        "    if word not in l:\n",
        "        l.append(word)\n",
        "slovar1 = l\n",
        "\n",
        "l = []\n",
        "for word in dc2['Lemma']:\n",
        "    if word not in l:\n",
        "        l.append(word)\n",
        "slovar2 = l\n",
        "\n",
        "l = []\n",
        "for word in dc3['Lemma']:\n",
        "    if word not in l:\n",
        "        l.append(word)\n",
        "slovar3 = l\n",
        "\n",
        "l = []\n",
        "for word in dc4['Lemma']:\n",
        "    if word not in l:\n",
        "        l.append(word)\n",
        "slovar4 = l\n",
        "\n",
        "# Matching lemmas for each level\n",
        "y_data_1 = []\n",
        "y_data_2 = []\n",
        "y_data_3 = []\n",
        "y_data_4 = []\n",
        "\n",
        "for file_name, lines in text_contents.items():\n",
        "    lv1 = 0\n",
        "    lv2 = 0\n",
        "    lv3 = 0\n",
        "    lv4 = 0\n",
        "    for i in lines:\n",
        "        if i in slovar1:\n",
        "            lv1 += 1\n",
        "        if i in slovar2:\n",
        "            lv2 += 1\n",
        "        if i in slovar3:\n",
        "            lv3 += 1\n",
        "        if i in slovar4:\n",
        "            lv4 += 1\n",
        "    y_data_1.append(lv1)\n",
        "    y_data_2.append(lv2)\n",
        "    y_data_3.append(lv3)\n",
        "    y_data_4.append(lv4)\n",
        "\n",
        "# Unmatched lemmas\n",
        "y_data_5 = []\n",
        "\n",
        "for i in range(len(y_data_1)):\n",
        "    diff = x_data[i] - y_data_1[i] - y_data_2[i] - y_data_3[i] - y_data_4[i]\n",
        "    y_data_5.append(diff)\n",
        "\n",
        "# Calculate the percentage of matched lemmas for each level\n",
        "total_words = np.array(x_data)\n",
        "percentages_1 = np.array(y_data_1) / total_words * 100\n",
        "percentages_2 = np.array(y_data_2) / total_words * 100\n",
        "percentages_3 = np.array(y_data_3) / total_words * 100\n",
        "percentages_4 = np.array(y_data_4) / total_words * 100\n",
        "percentages_5 = np.array(y_data_5) / total_words * 100\n",
        "\n",
        "# Calculate the average of Unmatched Lemmas\n",
        "average_unmatched_lemmas = np.mean(y_data_5)\n",
        "print(average_unmatched_lemmas)\n",
        "\n",
        "# Построим столбчатую диаграмму без меток количества слов и процентов\n",
        "colors = ['blue', 'green', 'red', 'orange', 'olive']\n",
        "\n",
        "plt.figure(figsize=(10, 5))\n",
        "plt.style.use('seaborn')\n",
        "\n",
        "plt.bar(range(len(y_data_1)), percentages_1, color=colors[0], label=labels[0])\n",
        "plt.bar(range(len(y_data_1)), percentages_2, bottom=percentages_1, color=colors[1], label=labels[1])\n",
        "plt.bar(range(len(y_data_1)), percentages_3, bottom=np.add(percentages_1, percentages_2), color=colors[2], label=labels[2])\n",
        "plt.bar(range(len(y_data_1)), percentages_4, bottom=np.add(np.add(percentages_1, percentages_2), percentages_3), color=colors[3], label=labels[3])\n",
        "plt.bar(range(len(y_data_1)), percentages_5, bottom=np.add(np.add(np.add(percentages_1, percentages_2), percentages_3), percentages_4),\n",
        "        color=colors[4], label=labels[4])\n",
        "\n",
        "plt.xticks(range(len(y_data_1)), [])  # Удаляем метки по оси X\n",
        "plt.ylabel('Процент')\n",
        "\n",
        "plt.legend(loc='center left', bbox_to_anchor=(1.0, 0.5))\n",
        "\n",
        "plt.show()"
      ]
    },
    {
      "cell_type": "code",
      "source": [
        "df = pd.read_csv('lemmas_levels.csv', sep=',')\n",
        "df.index = np.arange(1, len(df) + 1)\n",
        "mark1 = \"1E\"\n",
        "mark2 = \"2I\"\n",
        "mark3 = \"3AU\"\n",
        "mark4 = \"4S\"\n",
        "ll1 = df.query('level == @mark1')\n",
        "ll2 = df.query('level == @mark2')\n",
        "ll3 = df.query('level == @mark3')\n",
        "ll4 = df.query('level == @mark4')"
      ],
      "metadata": {
        "id": "ntv8qZ-uBHi1"
      },
      "execution_count": 24,
      "outputs": []
    },
    {
      "cell_type": "code",
      "source": [
        "slovar1 = ll1['lemma'].str.strip('\\'').tolist()\n",
        "slovar2 = ll2['lemma'].str.strip('\\'').tolist()\n",
        "slovar3 = ll3['lemma'].str.strip('\\'').tolist()\n",
        "slovar4 = ll4['lemma'].str.strip('\\'').tolist()"
      ],
      "metadata": {
        "id": "eH6lUV_yBP_d"
      },
      "execution_count": 25,
      "outputs": []
    },
    {
      "cell_type": "code",
      "source": [
        "# Matching lemmas для каждого уровня\n",
        "y_data_1 = []\n",
        "y_data_2 = []\n",
        "y_data_3 = []\n",
        "y_data_4 = []\n",
        "\n",
        "for file_name, lines in text_contents.items():\n",
        "    lv1 = 0\n",
        "    lv2 = 0\n",
        "    lv3 = 0\n",
        "    lv4 = 0\n",
        "    for i in lines:\n",
        "        if i in slovar1:\n",
        "            lv1 += 1\n",
        "        if i in slovar2:\n",
        "            lv2 += 1\n",
        "        if i in slovar3:\n",
        "            lv3 += 1\n",
        "        if i in slovar4:\n",
        "            lv4 += 1\n",
        "    y_data_1.append(lv1)\n",
        "    y_data_2.append(lv2)\n",
        "    y_data_3.append(lv3)\n",
        "    y_data_4.append(lv4)\n",
        "\n",
        "#Unmatched lemmas\n",
        "y_data_5 = []\n",
        "\n",
        "for i in range(len(y_data_1)):\n",
        "    diff = x_data[i] - y_data_1[i] - y_data_2[i] - y_data_3[i] - y_data_4[i]\n",
        "    y_data_5.append(diff)\n",
        "\n",
        "# Calculate the percentage of matched lemmas for each level\n",
        "total_words = np.array(x_data)\n",
        "percentages_1 = np.array(y_data_1) / total_words * 100\n",
        "percentages_2 = np.array(y_data_2) / total_words * 100\n",
        "percentages_3 = np.array(y_data_3) / total_words * 100\n",
        "percentages_4 = np.array(y_data_4) / total_words * 100\n",
        "percentages_5 = np.array(y_data_5) / total_words * 100\n",
        "\n",
        "# Calculate the average of Unmatched Lemmas\n",
        "average_unmatched_lemmas = np.mean(y_data_5)\n",
        "print(average_unmatched_lemmas)\n",
        "\n",
        "# Построим столбчатую диаграмму без меток количества слов и процентов\n",
        "colors = ['blue', 'green', 'red', 'orange', 'olive']\n",
        "\n",
        "plt.figure(figsize=(10, 5))\n",
        "plt.style.use('seaborn')\n",
        "\n",
        "plt.bar(range(len(y_data_1)), percentages_1, color=colors[0], label=labels[0])\n",
        "plt.bar(range(len(y_data_1)), percentages_2, bottom=percentages_1, color=colors[1], label=labels[1])\n",
        "plt.bar(range(len(y_data_1)), percentages_3, bottom=np.add(percentages_1, percentages_2), color=colors[2], label=labels[2])\n",
        "plt.bar(range(len(y_data_1)), percentages_4, bottom=np.add(np.add(percentages_1, percentages_2), percentages_3), color=colors[3], label=labels[3])\n",
        "plt.bar(range(len(y_data_1)), percentages_5, bottom=np.add(np.add(np.add(percentages_1, percentages_2), percentages_3), percentages_4),\n",
        "        color=colors[4], label=labels[4])\n",
        "\n",
        "plt.xticks(range(len(y_data_1)), [])  # Удаляем метки по оси X\n",
        "plt.ylabel('Процент')\n",
        "\n",
        "plt.legend(loc='center left', bbox_to_anchor=(1.0, 0.5))\n",
        "\n",
        "plt.show()"
      ],
      "metadata": {
        "colab": {
          "base_uri": "https://localhost:8080/",
          "height": 433
        },
        "id": "-ialePJd_XD1",
        "outputId": "2ae3743b-b929-47f8-bf0d-c727e343df95"
      },
      "execution_count": 26,
      "outputs": [
        {
          "output_type": "stream",
          "name": "stdout",
          "text": [
            "7.2853881278538815\n"
          ]
        },
        {
          "output_type": "stream",
          "name": "stderr",
          "text": [
            "<ipython-input-26-0915a2ab57a9>:49: MatplotlibDeprecationWarning: The seaborn styles shipped by Matplotlib are deprecated since 3.6, as they no longer correspond to the styles shipped by seaborn. However, they will remain available as 'seaborn-v0_8-<style>'. Alternatively, directly use the seaborn API instead.\n",
            "  plt.style.use('seaborn')\n"
          ]
        },
        {
          "output_type": "display_data",
          "data": {
            "text/plain": [
              "<Figure size 1000x500 with 1 Axes>"
            ],
            "image/png": "[encoded data removed]"
          },
          "metadata": {}
        }
      ]
    },
    {
      "cell_type": "code",
      "source": [
        "df = pd.read_csv('A1.csv', sep=';')\n",
        "df.index = np.arange(1, len(df) + 1)\n",
        "A1 = df[:754]"
      ],
      "metadata": {
        "id": "uqF5QGkVQ8jy"
      },
      "execution_count": 27,
      "outputs": []
    },
    {
      "cell_type": "code",
      "source": [
        "df = pd.read_csv('A2.csv', sep=';')\n",
        "df.index = np.arange(1, len(df) + 1)\n",
        "A2 = df[:1048]"
      ],
      "metadata": {
        "id": "GWKmhxMhTEgu"
      },
      "execution_count": 28,
      "outputs": []
    },
    {
      "cell_type": "code",
      "source": [
        "df = pd.read_csv('B1.csv', sep=';')\n",
        "df.index = np.arange(1, len(df) + 1)\n",
        "B1 = df[:1081]"
      ],
      "metadata": {
        "id": "008zKNiLWHFT"
      },
      "execution_count": 29,
      "outputs": []
    },
    {
      "cell_type": "code",
      "source": [
        "df = pd.read_csv('B2.csv', sep=';')\n",
        "df.index = np.arange(1, len(df) + 1)\n",
        "B2 = df[:3331]"
      ],
      "metadata": {
        "id": "EC76rJT0XJDS"
      },
      "execution_count": 30,
      "outputs": []
    },
    {
      "cell_type": "code",
      "source": [
        "slovar1 = A1['Lemma'].str.lower().tolist()\n",
        "slovar2 = A2['Unnamed: 0'].str.lower().tolist()\n",
        "slovar3 = B1['Lemma'].str.lower().tolist()\n",
        "slovar4 = B2['Lemma'].str.lower().tolist()"
      ],
      "metadata": {
        "id": "kDqXLs5PFNUs"
      },
      "execution_count": 31,
      "outputs": []
    },
    {
      "cell_type": "code",
      "source": [
        "# Matching lemmas для каждого уровня\n",
        "y_data_1 = []\n",
        "y_data_2 = []\n",
        "y_data_3 = []\n",
        "y_data_4 = []\n",
        "\n",
        "for file_name, lines in text_contents.items():\n",
        "    lv1 = 0\n",
        "    lv2 = 0\n",
        "    lv3 = 0\n",
        "    lv4 = 0\n",
        "    for i in lines:\n",
        "        if i in slovar1:\n",
        "            lv1 += 1\n",
        "        if i in slovar2:\n",
        "            lv2 += 1\n",
        "        if i in slovar3:\n",
        "            lv3 += 1\n",
        "        if i in slovar4:\n",
        "            lv4 += 1\n",
        "    y_data_1.append(lv1)\n",
        "    y_data_2.append(lv2)\n",
        "    y_data_3.append(lv3)\n",
        "    y_data_4.append(lv4)\n",
        "\n",
        "#Unmatched lemmas\n",
        "y_data_5 = []\n",
        "\n",
        "for i in range(len(y_data_1)):\n",
        "    diff = x_data[i] - y_data_1[i] - y_data_2[i] - y_data_3[i] - y_data_4[i]\n",
        "    y_data_5.append(diff)\n",
        "\n",
        "# Calculate the percentage of matched lemmas for each level\n",
        "total_words = np.array(x_data)\n",
        "percentages_1 = np.array(y_data_1) / total_words * 100\n",
        "percentages_2 = np.array(y_data_2) / total_words * 100\n",
        "percentages_3 = np.array(y_data_3) / total_words * 100\n",
        "percentages_4 = np.array(y_data_4) / total_words * 100\n",
        "percentages_5 = np.array(y_data_5) / total_words * 100\n",
        "\n",
        "# Calculate the average of Unmatched Lemmas\n",
        "average_unmatched_lemmas = np.mean(y_data_5)\n",
        "print(average_unmatched_lemmas)\n",
        "\n",
        "# Построим столбчатую диаграмму без меток количества слов и процентов\n",
        "colors = ['blue', 'green', 'red', 'orange', 'olive']\n",
        "\n",
        "plt.figure(figsize=(10, 5))\n",
        "plt.style.use('seaborn')\n",
        "\n",
        "plt.bar(range(len(y_data_1)), percentages_1, color=colors[0], label=labels[0])\n",
        "plt.bar(range(len(y_data_1)), percentages_2, bottom=percentages_1, color=colors[1], label=labels[1])\n",
        "plt.bar(range(len(y_data_1)), percentages_3, bottom=np.add(percentages_1, percentages_2), color=colors[2], label=labels[2])\n",
        "plt.bar(range(len(y_data_1)), percentages_4, bottom=np.add(np.add(percentages_1, percentages_2), percentages_3), color=colors[3], label=labels[3])\n",
        "plt.bar(range(len(y_data_1)), percentages_5, bottom=np.add(np.add(np.add(percentages_1, percentages_2), percentages_3), percentages_4),\n",
        "        color=colors[4], label=labels[4])\n",
        "\n",
        "plt.xticks(range(len(y_data_1)), [])  # Удаляем метки по оси X\n",
        "plt.ylabel('Процент')\n",
        "\n",
        "plt.legend(loc='center left', bbox_to_anchor=(1.0, 0.5))\n",
        "\n",
        "plt.show()"
      ],
      "metadata": {
        "colab": {
          "base_uri": "https://localhost:8080/",
          "height": 432
        },
        "id": "twbnnX3pFqXW",
        "outputId": "6c3fb488-2945-4fad-f718-492edb5cf031"
      },
      "execution_count": 32,
      "outputs": [
        {
          "output_type": "stream",
          "name": "stdout",
          "text": [
            "28.376712328767123\n"
          ]
        },
        {
          "output_type": "stream",
          "name": "stderr",
          "text": [
            "<ipython-input-32-0915a2ab57a9>:49: MatplotlibDeprecationWarning: The seaborn styles shipped by Matplotlib are deprecated since 3.6, as they no longer correspond to the styles shipped by seaborn. However, they will remain available as 'seaborn-v0_8-<style>'. Alternatively, directly use the seaborn API instead.\n",
            "  plt.style.use('seaborn')\n"
          ]
        },
        {
          "output_type": "display_data",
          "data": {
            "text/plain": [
              "<Figure size 1000x500 with 1 Axes>"
            ],
            "image/png": "[encoded data removed]"
          },
          "metadata": {}
        }
      ]
    },
    {
      "cell_type": "code",
      "source": [
        "df = pd.read_csv('new_vocab_a1.csv', sep=';')\n",
        "df.index = np.arange(1, len(df) + 1)\n",
        "i = 1\n",
        "for word in df['а']:\n",
        "  if len(word) < 2:\n",
        "    df.drop(index = i, inplace = True)\n",
        "  else:\n",
        "    i += 1\n",
        "nv1 = df"
      ],
      "metadata": {
        "id": "U4Bxcq4ls9En"
      },
      "execution_count": 33,
      "outputs": []
    },
    {
      "cell_type": "code",
      "source": [
        "df = pd.read_csv('new_vocab_a2.csv', sep=';')\n",
        "df.index = np.arange(1, len(df) + 1)\n",
        "i = 1\n",
        "for word in df['а']:\n",
        "  if len(word) < 2:\n",
        "    df.drop(index = i, inplace = True)\n",
        "  else:\n",
        "    i += 1\n",
        "nv2 = df"
      ],
      "metadata": {
        "id": "Wm8-VV060V2S"
      },
      "execution_count": 34,
      "outputs": []
    },
    {
      "cell_type": "code",
      "source": [
        "df = pd.read_csv('new_vocab_b1.csv', sep=';')\n",
        "df.index = np.arange(1, len(df) + 1)\n",
        "i = 1\n",
        "for word in df['а']:\n",
        "  if len(word) < 2:\n",
        "    df.drop(index = i, inplace = True)\n",
        "  else:\n",
        "    i += 1\n",
        "nv3 = df"
      ],
      "metadata": {
        "id": "3knprXCl0nsD"
      },
      "execution_count": 35,
      "outputs": []
    },
    {
      "cell_type": "code",
      "source": [
        "df = pd.read_csv('new_vocab_b2.csv', sep=';')\n",
        "df.index = np.arange(1, len(df) + 1)\n",
        "i = 1\n",
        "for word in df['а']:\n",
        "  if len(word) < 2:\n",
        "    df.drop(index = i, inplace = True)\n",
        "  else:\n",
        "    i += 1\n",
        "nv4 = df"
      ],
      "metadata": {
        "id": "cB5W9R7b04Gb"
      },
      "execution_count": 36,
      "outputs": []
    },
    {
      "cell_type": "code",
      "source": [
        "slovar1 = nv1['а'].str.lower().tolist()\n",
        "data8 = nv2['а'].str.lower().tolist()\n",
        "slovar2 = list(set(data8) - set(slovar1))\n",
        "data7 = nv3['а'].str.lower().tolist()\n",
        "slovar3 = list(set(data7) - set(data8))\n",
        "data6 = nv4['а'].str.lower().tolist()\n",
        "slovar4 = list(set(data6) - set(data7))"
      ],
      "metadata": {
        "id": "Db2oJb90IHBL"
      },
      "execution_count": 37,
      "outputs": []
    },
    {
      "cell_type": "code",
      "source": [
        "# Matching lemmas для каждого уровня\n",
        "y_data_1 = []\n",
        "y_data_2 = []\n",
        "y_data_3 = []\n",
        "y_data_4 = []\n",
        "\n",
        "for file_name, lines in text_contents.items():\n",
        "    lv1 = 0\n",
        "    lv2 = 0\n",
        "    lv3 = 0\n",
        "    lv4 = 0\n",
        "    for i in lines:\n",
        "        if i in slovar1:\n",
        "            lv1 += 1\n",
        "        if i in slovar2:\n",
        "            lv2 += 1\n",
        "        if i in slovar3:\n",
        "            lv3 += 1\n",
        "        if i in slovar4:\n",
        "            lv4 += 1\n",
        "    y_data_1.append(lv1)\n",
        "    y_data_2.append(lv2)\n",
        "    y_data_3.append(lv3)\n",
        "    y_data_4.append(lv4)\n",
        "\n",
        "#Unmatched lemmas\n",
        "y_data_5 = []\n",
        "\n",
        "for i in range(len(y_data_1)):\n",
        "    diff = x_data[i] - y_data_1[i] - y_data_2[i] - y_data_3[i] - y_data_4[i]\n",
        "    y_data_5.append(diff)\n",
        "\n",
        "# Calculate the percentage of matched lemmas for each level\n",
        "total_words = np.array(x_data)\n",
        "percentages_1 = np.array(y_data_1) / total_words * 100\n",
        "percentages_2 = np.array(y_data_2) / total_words * 100\n",
        "percentages_3 = np.array(y_data_3) / total_words * 100\n",
        "percentages_4 = np.array(y_data_4) / total_words * 100\n",
        "percentages_5 = np.array(y_data_5) / total_words * 100\n",
        "\n",
        "# Calculate the average of Unmatched Lemmas\n",
        "average_unmatched_lemmas = np.mean(y_data_5)\n",
        "print(average_unmatched_lemmas)\n",
        "\n",
        "# Построим столбчатую диаграмму без меток количества слов и процентов\n",
        "colors = ['blue', 'green', 'red', 'orange', 'olive']\n",
        "\n",
        "plt.figure(figsize=(10, 5))\n",
        "plt.style.use('seaborn')\n",
        "\n",
        "plt.bar(range(len(y_data_1)), percentages_1, color=colors[0], label=labels[0])\n",
        "plt.bar(range(len(y_data_1)), percentages_2, bottom=percentages_1, color=colors[1], label=labels[1])\n",
        "plt.bar(range(len(y_data_1)), percentages_3, bottom=np.add(percentages_1, percentages_2), color=colors[2], label=labels[2])\n",
        "plt.bar(range(len(y_data_1)), percentages_4, bottom=np.add(np.add(percentages_1, percentages_2), percentages_3), color=colors[3], label=labels[3])\n",
        "plt.bar(range(len(y_data_1)), percentages_5, bottom=np.add(np.add(np.add(percentages_1, percentages_2), percentages_3), percentages_4),\n",
        "        color=colors[4], label=labels[4])\n",
        "\n",
        "plt.xticks(range(len(y_data_1)), [])  # Удаляем метки по оси X\n",
        "plt.ylabel('Процент')\n",
        "\n",
        "plt.legend(loc='center left', bbox_to_anchor=(1.0, 0.5))\n",
        "\n",
        "plt.show()"
      ],
      "metadata": {
        "colab": {
          "base_uri": "https://localhost:8080/",
          "height": 428
        },
        "id": "HInbT8_8IdDj",
        "outputId": "55a0fe70-58ee-4ea2-f75e-32611286ac41"
      },
      "execution_count": 38,
      "outputs": [
        {
          "output_type": "stream",
          "name": "stdout",
          "text": [
            "6.739726027397261\n"
          ]
        },
        {
          "output_type": "stream",
          "name": "stderr",
          "text": [
            "<ipython-input-38-0915a2ab57a9>:49: MatplotlibDeprecationWarning: The seaborn styles shipped by Matplotlib are deprecated since 3.6, as they no longer correspond to the styles shipped by seaborn. However, they will remain available as 'seaborn-v0_8-<style>'. Alternatively, directly use the seaborn API instead.\n",
            "  plt.style.use('seaborn')\n"
          ]
        },
        {
          "output_type": "display_data",
          "data": {
            "text/plain": [
              "<Figure size 1000x500 with 1 Axes>"
            ],
            "image/png": "[encoded data removed]"
          },
          "metadata": {}
        }
      ]
    },
    {
      "cell_type": "code",
      "source": [
        "import os\n",
        "\n",
        "students_path = \"/content/Students_texts\"\n",
        "\n",
        "# Получаем список всех файлов в директории /content/Students_texts\n",
        "file_list = os.listdir(students_path)\n",
        "\n",
        "# Удаляем каждый файл из списка\n",
        "for file_name in file_list:\n",
        "    file_path = os.path.join(students_path, file_name)\n",
        "    os.remove(file_path)\n",
        "\n",
        "print(\"Все файлы в /content/Students_texts удалены.\")"
      ],
      "metadata": {
        "id": "i-mCvwel36D-",
        "outputId": "17952f28-bcc2-4b93-88fb-db524c5712f6",
        "colab": {
          "base_uri": "https://localhost:8080/"
        }
      },
      "execution_count": 39,
      "outputs": [
        {
          "output_type": "stream",
          "name": "stdout",
          "text": [
            "Все файлы в /content/Students_texts удалены.\n"
          ]
        }
      ]
    }
  ]
}