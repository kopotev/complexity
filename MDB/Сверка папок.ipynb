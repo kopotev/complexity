{
  "nbformat": 4,
  "nbformat_minor": 0,
  "metadata": {
    "colab": {
      "provenance": [],
      "authorship_tag": "ABX9TyMyRMsjUj/VR/8FrjSCj8zt",
      "include_colab_link": true
    },
    "kernelspec": {
      "name": "python3",
      "display_name": "Python 3"
    },
    "language_info": {
      "name": "python"
    }
  },
  "cells": [
    {
      "cell_type": "markdown",
      "metadata": {
        "id": "view-in-github",
        "colab_type": "text"
      },
      "source": [
        "<a href=\"https://colab.research.google.com/github/Vakhranev/MDB/blob/main/%D0%A1%D0%B2%D0%B5%D1%80%D0%BA%D0%B0%20%D0%BF%D0%B0%D0%BF%D0%BE%D0%BA.ipynb\" target=\"_parent\"><img src=\"https://colab.research.google.com/assets/colab-badge.svg\" alt=\"Open In Colab\"/></a>"
      ]
    },
    {
      "cell_type": "code",
      "source": [
        "from google.colab import files\n",
        "\n",
        "# Загрузка ZIP-файла\n",
        "uploaded = files.upload()"
      ],
      "metadata": {
        "colab": {
          "base_uri": "https://localhost:8080/",
          "height": 146
        },
        "id": "Iy84s16XSAA-",
        "outputId": "33681450-97c3-4f8f-e560-fe0cc5e7fb57"
      },
      "execution_count": null,
      "outputs": [
        {
          "output_type": "display_data",
          "data": {
            "text/plain": [
              "<IPython.core.display.HTML object>"
            ],
            "text/html": [
              "\n",
              "     <input type=\"file\" id=\"files-c0398b5c-2e14-4d8d-9705-8bdd2edba23c\" name=\"files[]\" multiple disabled\n",
              "        style=\"border:none\" />\n",
              "     <output id=\"result-c0398b5c-2e14-4d8d-9705-8bdd2edba23c\">\n",
              "      Upload widget is only available when the cell has been executed in the\n",
              "      current browser session. Please rerun this cell to enable.\n",
              "      </output>\n",
              "      <script>// Copyright 2017 Google LLC\n",
              "//\n",
              "// Licensed under the Apache License, Version 2.0 (the \"License\");\n",
              "// you may not use this file except in compliance with the License.\n",
              "// You may obtain a copy of the License at\n",
              "//\n",
              "//      http://www.apache.org/licenses/LICENSE-2.0\n",
              "//\n",
              "// Unless required by applicable law or agreed to in writing, software\n",
              "// distributed under the License is distributed on an \"AS IS\" BASIS,\n",
              "// WITHOUT WARRANTIES OR CONDITIONS OF ANY KIND, either express or implied.\n",
              "// See the License for the specific language governing permissions and\n",
              "// limitations under the License.\n",
              "\n",
              "/**\n",
              " * @fileoverview Helpers for google.colab Python module.\n",
              " */\n",
              "(function(scope) {\n",
              "function span(text, styleAttributes = {}) {\n",
              "  const element = document.createElement('span');\n",
              "  element.textContent = text;\n",
              "  for (const key of Object.keys(styleAttributes)) {\n",
              "    element.style[key] = styleAttributes[key];\n",
              "  }\n",
              "  return element;\n",
              "}\n",
              "\n",
              "// Max number of bytes which will be uploaded at a time.\n",
              "const MAX_PAYLOAD_SIZE = 100 * 1024;\n",
              "\n",
              "function _uploadFiles(inputId, outputId) {\n",
              "  const steps = uploadFilesStep(inputId, outputId);\n",
              "  const outputElement = document.getElementById(outputId);\n",
              "  // Cache steps on the outputElement to make it available for the next call\n",
              "  // to uploadFilesContinue from Python.\n",
              "  outputElement.steps = steps;\n",
              "\n",
              "  return _uploadFilesContinue(outputId);\n",
              "}\n",
              "\n",
              "// This is roughly an async generator (not supported in the browser yet),\n",
              "// where there are multiple asynchronous steps and the Python side is going\n",
              "// to poll for completion of each step.\n",
              "// This uses a Promise to block the python side on completion of each step,\n",
              "// then passes the result of the previous step as the input to the next step.\n",
              "function _uploadFilesContinue(outputId) {\n",
              "  const outputElement = document.getElementById(outputId);\n",
              "  const steps = outputElement.steps;\n",
              "\n",
              "  const next = steps.next(outputElement.lastPromiseValue);\n",
              "  return Promise.resolve(next.value.promise).then((value) => {\n",
              "    // Cache the last promise value to make it available to the next\n",
              "    // step of the generator.\n",
              "    outputElement.lastPromiseValue = value;\n",
              "    return next.value.response;\n",
              "  });\n",
              "}\n",
              "\n",
              "/**\n",
              " * Generator function which is called between each async step of the upload\n",
              " * process.\n",
              " * @param {string} inputId Element ID of the input file picker element.\n",
              " * @param {string} outputId Element ID of the output display.\n",
              " * @return {!Iterable<!Object>} Iterable of next steps.\n",
              " */\n",
              "function* uploadFilesStep(inputId, outputId) {\n",
              "  const inputElement = document.getElementById(inputId);\n",
              "  inputElement.disabled = false;\n",
              "\n",
              "  const outputElement = document.getElementById(outputId);\n",
              "  outputElement.innerHTML = '';\n",
              "\n",
              "  const pickedPromise = new Promise((resolve) => {\n",
              "    inputElement.addEventListener('change', (e) => {\n",
              "      resolve(e.target.files);\n",
              "    });\n",
              "  });\n",
              "\n",
              "  const cancel = document.createElement('button');\n",
              "  inputElement.parentElement.appendChild(cancel);\n",
              "  cancel.textContent = 'Cancel upload';\n",
              "  const cancelPromise = new Promise((resolve) => {\n",
              "    cancel.onclick = () => {\n",
              "      resolve(null);\n",
              "    };\n",
              "  });\n",
              "\n",
              "  // Wait for the user to pick the files.\n",
              "  const files = yield {\n",
              "    promise: Promise.race([pickedPromise, cancelPromise]),\n",
              "    response: {\n",
              "      action: 'starting',\n",
              "    }\n",
              "  };\n",
              "\n",
              "  cancel.remove();\n",
              "\n",
              "  // Disable the input element since further picks are not allowed.\n",
              "  inputElement.disabled = true;\n",
              "\n",
              "  if (!files) {\n",
              "    return {\n",
              "      response: {\n",
              "        action: 'complete',\n",
              "      }\n",
              "    };\n",
              "  }\n",
              "\n",
              "  for (const file of files) {\n",
              "    const li = document.createElement('li');\n",
              "    li.append(span(file.name, {fontWeight: 'bold'}));\n",
              "    li.append(span(\n",
              "        `(${file.type || 'n/a'}) - ${file.size} bytes, ` +\n",
              "        `last modified: ${\n",
              "            file.lastModifiedDate ? file.lastModifiedDate.toLocaleDateString() :\n",
              "                                    'n/a'} - `));\n",
              "    const percent = span('0% done');\n",
              "    li.appendChild(percent);\n",
              "\n",
              "    outputElement.appendChild(li);\n",
              "\n",
              "    const fileDataPromise = new Promise((resolve) => {\n",
              "      const reader = new FileReader();\n",
              "      reader.onload = (e) => {\n",
              "        resolve(e.target.result);\n",
              "      };\n",
              "      reader.readAsArrayBuffer(file);\n",
              "    });\n",
              "    // Wait for the data to be ready.\n",
              "    let fileData = yield {\n",
              "      promise: fileDataPromise,\n",
              "      response: {\n",
              "        action: 'continue',\n",
              "      }\n",
              "    };\n",
              "\n",
              "    // Use a chunked sending to avoid message size limits. See b/62115660.\n",
              "    let position = 0;\n",
              "    do {\n",
              "      const length = Math.min(fileData.byteLength - position, MAX_PAYLOAD_SIZE);\n",
              "      const chunk = new Uint8Array(fileData, position, length);\n",
              "      position += length;\n",
              "\n",
              "      const base64 = btoa(String.fromCharCode.apply(null, chunk));\n",
              "      yield {\n",
              "        response: {\n",
              "          action: 'append',\n",
              "          file: file.name,\n",
              "          data: base64,\n",
              "        },\n",
              "      };\n",
              "\n",
              "      let percentDone = fileData.byteLength === 0 ?\n",
              "          100 :\n",
              "          Math.round((position / fileData.byteLength) * 100);\n",
              "      percent.textContent = `${percentDone}% done`;\n",
              "\n",
              "    } while (position < fileData.byteLength);\n",
              "  }\n",
              "\n",
              "  // All done.\n",
              "  yield {\n",
              "    response: {\n",
              "      action: 'complete',\n",
              "    }\n",
              "  };\n",
              "}\n",
              "\n",
              "scope.google = scope.google || {};\n",
              "scope.google.colab = scope.google.colab || {};\n",
              "scope.google.colab._files = {\n",
              "  _uploadFiles,\n",
              "  _uploadFilesContinue,\n",
              "};\n",
              "})(self);\n",
              "</script> "
            ]
          },
          "metadata": {}
        },
        {
          "output_type": "stream",
          "name": "stdout",
          "text": [
            "Saving Z from Sasha Transcribed data txt Summer STANDARDIZED 2017 2018 2019 2020.zip to Z from Sasha Transcribed data txt Summer STANDARDIZED 2017 2018 2019 2020.zip\n",
            "Saving Transcribed data txt Summer STANDARDIZED 2017 2018 2019 2020.zip to Transcribed data txt Summer STANDARDIZED 2017 2018 2019 2020.zip\n"
          ]
        }
      ]
    },
    {
      "cell_type": "code",
      "source": [
        "import zipfile\n",
        "import io\n",
        "\n",
        "# Распаковка ZIP-файла\n",
        "for zip_filename in uploaded.keys():\n",
        "    with zipfile.ZipFile(io.BytesIO(uploaded[zip_filename]), 'r') as zip_ref:\n",
        "        zip_ref.extractall('/content/')  # Путь, куда нужно распаковать"
      ],
      "metadata": {
        "id": "dBp76OhXUBiD"
      },
      "execution_count": null,
      "outputs": []
    },
    {
      "cell_type": "code",
      "source": [
        "import os\n",
        "\n",
        "def compare_folders(folder1, folder2):\n",
        "    # Проверка, что папки существуют\n",
        "    if not os.path.exists(folder1) or not os.path.exists(folder2):\n",
        "        print(\"Одна из папок не существует.\")\n",
        "        return\n",
        "\n",
        "    # Создание списка файлов и папок в каждой из папок\n",
        "    def list_items(dir_path):\n",
        "        items = set()\n",
        "        for root, dirs, files in os.walk(dir_path):\n",
        "            for item in dirs + files:\n",
        "                item_path = os.path.relpath(os.path.join(root, item), dir_path)\n",
        "                items.add(item_path)\n",
        "        return items\n",
        "\n",
        "    # Получение списка файлов и папок для каждой папки\n",
        "    items1 = list_items(folder1)\n",
        "    items2 = list_items(folder2)\n",
        "\n",
        "    # Получение файлов, которые есть только в одной папке\n",
        "    files_only_in_folder1 = items1 - items2\n",
        "    files_only_in_folder2 = items2 - items1\n",
        "\n",
        "    # Запись файлов, которые есть только в одной папке\n",
        "    with open(\"differences.txt\", \"w\") as f:\n",
        "        if files_only_in_folder1:\n",
        "            f.write(\"Вот эти файлы содержатся в '{}' и отсутствуют в '{}':\\n\".format(folder1, folder2))\n",
        "            f.write(\"\\n\".join(files_only_in_folder1) + \"\\n\\n\")\n",
        "        if files_only_in_folder2:\n",
        "            f.write(\"Вот эти файлы содержатся в '{}' и отсутствуют в '{}':\\n\".format(folder2, folder1))\n",
        "            f.write(\"\\n\".join(files_only_in_folder2) + \"\\n\\n\")\n",
        "\n",
        "    # Сравнение содержимого файлов с одинаковыми названиями\n",
        "    with open(\"differences.txt\", \"a\") as f:\n",
        "        common_files = items1 & items2\n",
        "        for file in common_files:\n",
        "            file1_path = os.path.join(folder1, file)\n",
        "            file2_path = os.path.join(folder2, file)\n",
        "            if os.path.isfile(file1_path) and os.path.isfile(file2_path):  # Проверка, что оба элемента являются файлами\n",
        "                with open(file1_path, \"r\") as file1, open(file2_path, \"r\") as file2:\n",
        "                    content1 = file1.read()\n",
        "                    content2 = file2.read()\n",
        "                    if content1 != content2:\n",
        "                        f.write(\"Отличия в файле '{}':\\n\".format(file))\n",
        "                        f.write(\"Содержимое в '{}':\\n{}\\n\".format(folder1, content1))\n",
        "                        f.write(\"Содержимое в '{}':\\n{}\\n\\n\".format(folder2, content2))\n",
        "            else:\n",
        "                print(\"Один из элементов не является файлом:\", file)\n",
        "\n",
        "# Пути к папкам\n",
        "folder1 = \"Z from Sasha Transcribed data txt Summer STANDARDIZED 2017 2018 2019 2020\"\n",
        "folder2 = \"Transcribed data txt Summer STANDARDIZED 2017 2018 2019 2020\"\n",
        "\n",
        "# Вызов функции для сравнения папок\n",
        "compare_folders(folder1, folder2)"
      ],
      "metadata": {
        "colab": {
          "base_uri": "https://localhost:8080/"
        },
        "id": "QVqkSm6uUcBH",
        "outputId": "62e41841-3b31-49e9-a1cb-75b6a2e8b1e3"
      },
      "execution_count": null,
      "outputs": [
        {
          "output_type": "stream",
          "name": "stdout",
          "text": [
            "Один из элементов не является файлом: 2020 Standardized/Pre_Test_ST\n",
            "Один из элементов не является файлом: 2018 Standardized/Post_Test_2018_ST/Post_Test_Prompt1\n",
            "Один из элементов не является файлом: 2017 Standardized/Post_Test_2017_ST/Post_Test_Prompt2\n",
            "Один из элементов не является файлом: 2020 Standardized/Post_Test_ST/Post_Test_Prompt2_ST\n",
            "Один из элементов не является файлом: 2019 Standardized\n",
            "Один из элементов не является файлом: 2019 Standardized/2019 PostTest ST/Post_test_Prompt2_Article_on_recent_events_ST\n",
            "Один из элементов не является файлом: 2017 Standardized/Post_Test_2017_ST/Post_Test_Prompt1\n",
            "Один из элементов не является файлом: 2019 Standardized/2019 PostTest ST\n",
            "Один из элементов не является файлом: 2017 Standardized/Post_Test_2017_ST\n",
            "Один из элементов не является файлом: 2020 Standardized/Pre_Test_ST/Pre_Test_Prompt2_ST\n",
            "Один из элементов не является файлом: 2020 Standardized/Pre_Test_ST/Pre_Test_Prompt1_ST\n",
            "Один из элементов не является файлом: 2018 Standardized/Pre_Test_2018_ST\n",
            "Один из элементов не является файлом: 2017 Standardized\n",
            "Один из элементов не является файлом: 2018 Standardized/Pre_Test_2018_ST/Pre_Test_Prompt2\n",
            "Один из элементов не является файлом: 2017 Standardized/Post_Test_2017_ST/Post_Test_Prompt3\n",
            "Один из элементов не является файлом: 2020 Standardized/Post_Test_ST\n",
            "Один из элементов не является файлом: 2018 Standardized/Post_Test_2018_ST/Post_Test_Prompt4\n",
            "Один из элементов не является файлом: 2018 Standardized/Pre_Test_2018_ST/Pre_Test_Prompt1\n",
            "Один из элементов не является файлом: 2019 Standardized/2019 PreTest ST/Pre_test_Prompt1_Describing_a_friend_ST\n",
            "Один из элементов не является файлом: 2019 Standardized/2019 PostTest ST/Post_test_Prompt3_Qualities_of_politician_ST\n",
            "Один из элементов не является файлом: 2019 Standardized/2019 PostTest ST/Post_test_Prompt1_My_experience_at_Middlebury_ST\n",
            "Один из элементов не является файлом: 2019 Standardized/2019 PreTest ST/Pre_test_Prompt0_Planning_dinner_party_ST\n",
            "Один из элементов не является файлом: 2020 Standardized/Post_Test_ST/Post_Test_Prompt1_ST\n",
            "Один из элементов не является файлом: 2019 Standardized/2019 PreTest ST\n",
            "Один из элементов не является файлом: 2019 Standardized/2019 PreTest ST/Pre_test_Prompt2_Social_issue_ST\n",
            "Один из элементов не является файлом: 2017 Standardized/Post_Test_2017_ST/Post_Test_Prompt4\n",
            "Один из элементов не является файлом: 2020 Standardized/Pre_Test_ST/Pre_Test_Prompt3_ST\n",
            "Один из элементов не является файлом: 2020 Standardized\n",
            "Один из элементов не является файлом: 2018 Standardized/Post_Test_2018_ST/Post_Test_Prompt2\n",
            "Один из элементов не является файлом: 2018 Standardized/Post_Test_2018_ST\n",
            "Один из элементов не является файлом: 2020 Standardized/Post_Test_ST/Post_Test_Prompt3_ST\n",
            "Один из элементов не является файлом: 2018 Standardized/Pre_Test_2018_ST/Pre_Test_Prompt0\n",
            "Один из элементов не является файлом: 2019 Standardized/2019 PreTest ST/Pre_test_Prompt3_Dependency_on_technology_ST\n",
            "Один из элементов не является файлом: 2017 Standardized/Pre_Test_2017_ST\n",
            "Один из элементов не является файлом: 2018 Standardized\n",
            "Один из элементов не является файлом: 2018 Standardized/Pre_Test_2018_ST/Pre_Test_Prompt3\n",
            "Один из элементов не является файлом: 2018 Standardized/Post_Test_2018_ST/Post_Test_Prompt3\n"
          ]
        }
      ]
    },
    {
      "cell_type": "code",
      "source": [
        "import nltk\n",
        "nltk.download('punkt')\n",
        "import csv\n",
        "import re\n",
        "import pandas as pd\n",
        "import numpy as np\n",
        "import os\n",
        "import zipfile"
      ],
      "metadata": {
        "colab": {
          "base_uri": "https://localhost:8080/"
        },
        "id": "wKqkgNTRg-eP",
        "outputId": "4f3df410-9033-4e22-dc72-a0cdc93ecb36"
      },
      "execution_count": null,
      "outputs": [
        {
          "output_type": "stream",
          "name": "stderr",
          "text": [
            "[nltk_data] Downloading package punkt to /root/nltk_data...\n",
            "[nltk_data]   Unzipping tokenizers/punkt.zip.\n"
          ]
        }
      ]
    },
    {
      "cell_type": "code",
      "source": [
        "path =\"Transcribed data txt Summer STANDARDIZED 2017 2018 2019 2020\"\n",
        "filelist = []\n",
        "\n",
        "for root, dirs, files in os.walk(path):\n",
        "  for file in files:\n",
        "    if str(file)[-3:]=='txt':\n",
        "      filelist.append(os.path.join(root,file))\n",
        "\n",
        "print(len(filelist))"
      ],
      "metadata": {
        "colab": {
          "base_uri": "https://localhost:8080/"
        },
        "id": "Lj0rl_F0hF5X",
        "outputId": "72379346-0d46-4838-ae57-9ba79d77673c"
      },
      "execution_count": null,
      "outputs": [
        {
          "output_type": "stream",
          "name": "stdout",
          "text": [
            "1123\n"
          ]
        }
      ]
    },
    {
      "cell_type": "code",
      "source": [
        "path =\"Z from Sasha Transcribed data txt Summer STANDARDIZED 2017 2018 2019 2020\"\n",
        "filelist = []\n",
        "\n",
        "for root, dirs, files in os.walk(path):\n",
        "  for file in files:\n",
        "    if str(file)[-3:]=='txt':\n",
        "      filelist.append(os.path.join(root,file))\n",
        "\n",
        "print(len(filelist))"
      ],
      "metadata": {
        "colab": {
          "base_uri": "https://localhost:8080/"
        },
        "id": "67IJ42YQhX3Q",
        "outputId": "9e635b98-59f4-4514-c899-39cff61c53cf"
      },
      "execution_count": null,
      "outputs": [
        {
          "output_type": "stream",
          "name": "stdout",
          "text": [
            "1142\n"
          ]
        }
      ]
    }
  ]
}