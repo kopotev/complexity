{
  "nbformat": 4,
  "nbformat_minor": 0,
  "metadata": {
    "colab": {
      "provenance": [],
      "authorship_tag": "ABX9TyO42+kmAhxCqFDiLc0Qy9sK",
      "include_colab_link": true
    },
    "kernelspec": {
      "name": "python3",
      "display_name": "Python 3"
    },
    "language_info": {
      "name": "python"
    }
  },
  "cells": [
    {
      "cell_type": "markdown",
      "metadata": {
        "id": "view-in-github",
        "colab_type": "text"
      },
      "source": [
        "<a href=\"https://colab.research.google.com/github/Vakhranev/MDB/blob/main/%D0%93%D0%B5%D0%B9%D0%BC%D1%81-%D0%A5%D0%B0%D1%83%D1%8D%D0%BB%D0%BB%20%D0%B4%D0%BB%D1%8F%20%D0%BA%D0%BE%D0%BB%D0%B8%D1%87%D0%B5%D1%81%D1%82%D0%B2%D0%B0%20%D1%83%D0%BD%D0%B8%D0%BA%D0%B0%D0%BB%D1%8C%D0%BD%D1%8B%D1%85%20%D0%BC%D0%BE%D1%80%D1%84%D0%B5%D0%BC.ipynb\" target=\"_parent\"><img src=\"https://colab.research.google.com/assets/colab-badge.svg\" alt=\"Open In Colab\"/></a>"
      ]
    },
    {
      "cell_type": "code",
      "source": [
        "!pip install pingouin"
      ],
      "metadata": {
        "colab": {
          "base_uri": "https://localhost:8080/"
        },
        "id": "Xi6jGTdU7dH7",
        "outputId": "7488001f-e640-423a-cae9-0575ab517101"
      },
      "execution_count": 1,
      "outputs": [
        {
          "output_type": "stream",
          "name": "stdout",
          "text": [
            "Collecting pingouin\n",
            "  Downloading pingouin-0.5.4-py2.py3-none-any.whl (198 kB)\n",
            "\u001b[?25l     \u001b[90m━━━━━━━━━━━━━━━━━━━━━━━━━━━━━━━━━━━━━━━━\u001b[0m \u001b[32m0.0/198.9 kB\u001b[0m \u001b[31m?\u001b[0m eta \u001b[36m-:--:--\u001b[0m\r\u001b[2K     \u001b[91m━━━━━━━━━━━━━━━━━━━━━━━━━━━━\u001b[0m\u001b[91m╸\u001b[0m\u001b[90m━━━━━━━━━━━\u001b[0m \u001b[32m143.4/198.9 kB\u001b[0m \u001b[31m4.3 MB/s\u001b[0m eta \u001b[36m0:00:01\u001b[0m\r\u001b[2K     \u001b[90m━━━━━━━━━━━━━━━━━━━━━━━━━━━━━━━━━━━━━━━━\u001b[0m \u001b[32m198.9/198.9 kB\u001b[0m \u001b[31m4.2 MB/s\u001b[0m eta \u001b[36m0:00:00\u001b[0m\n",
            "\u001b[?25hRequirement already satisfied: numpy in /usr/local/lib/python3.10/dist-packages (from pingouin) (1.25.2)\n",
            "Requirement already satisfied: scipy in /usr/local/lib/python3.10/dist-packages (from pingouin) (1.11.4)\n",
            "Requirement already satisfied: pandas>=1.5 in /usr/local/lib/python3.10/dist-packages (from pingouin) (1.5.3)\n",
            "Requirement already satisfied: matplotlib in /usr/local/lib/python3.10/dist-packages (from pingouin) (3.7.1)\n",
            "Requirement already satisfied: seaborn in /usr/local/lib/python3.10/dist-packages (from pingouin) (0.13.1)\n",
            "Requirement already satisfied: statsmodels in /usr/local/lib/python3.10/dist-packages (from pingouin) (0.14.1)\n",
            "Requirement already satisfied: scikit-learn in /usr/local/lib/python3.10/dist-packages (from pingouin) (1.2.2)\n",
            "Collecting pandas-flavor (from pingouin)\n",
            "  Downloading pandas_flavor-0.6.0-py3-none-any.whl (7.2 kB)\n",
            "Requirement already satisfied: tabulate in /usr/local/lib/python3.10/dist-packages (from pingouin) (0.9.0)\n",
            "Requirement already satisfied: python-dateutil>=2.8.1 in /usr/local/lib/python3.10/dist-packages (from pandas>=1.5->pingouin) (2.8.2)\n",
            "Requirement already satisfied: pytz>=2020.1 in /usr/local/lib/python3.10/dist-packages (from pandas>=1.5->pingouin) (2023.4)\n",
            "Requirement already satisfied: contourpy>=1.0.1 in /usr/local/lib/python3.10/dist-packages (from matplotlib->pingouin) (1.2.0)\n",
            "Requirement already satisfied: cycler>=0.10 in /usr/local/lib/python3.10/dist-packages (from matplotlib->pingouin) (0.12.1)\n",
            "Requirement already satisfied: fonttools>=4.22.0 in /usr/local/lib/python3.10/dist-packages (from matplotlib->pingouin) (4.50.0)\n",
            "Requirement already satisfied: kiwisolver>=1.0.1 in /usr/local/lib/python3.10/dist-packages (from matplotlib->pingouin) (1.4.5)\n",
            "Requirement already satisfied: packaging>=20.0 in /usr/local/lib/python3.10/dist-packages (from matplotlib->pingouin) (24.0)\n",
            "Requirement already satisfied: pillow>=6.2.0 in /usr/local/lib/python3.10/dist-packages (from matplotlib->pingouin) (9.4.0)\n",
            "Requirement already satisfied: pyparsing>=2.3.1 in /usr/local/lib/python3.10/dist-packages (from matplotlib->pingouin) (3.1.2)\n",
            "Requirement already satisfied: xarray in /usr/local/lib/python3.10/dist-packages (from pandas-flavor->pingouin) (2023.7.0)\n",
            "Requirement already satisfied: joblib>=1.1.1 in /usr/local/lib/python3.10/dist-packages (from scikit-learn->pingouin) (1.3.2)\n",
            "Requirement already satisfied: threadpoolctl>=2.0.0 in /usr/local/lib/python3.10/dist-packages (from scikit-learn->pingouin) (3.3.0)\n",
            "Requirement already satisfied: patsy>=0.5.4 in /usr/local/lib/python3.10/dist-packages (from statsmodels->pingouin) (0.5.6)\n",
            "Requirement already satisfied: six in /usr/local/lib/python3.10/dist-packages (from patsy>=0.5.4->statsmodels->pingouin) (1.16.0)\n",
            "Installing collected packages: pandas-flavor, pingouin\n",
            "Successfully installed pandas-flavor-0.6.0 pingouin-0.5.4\n"
          ]
        }
      ]
    },
    {
      "cell_type": "code",
      "source": [
        "!pip install pymorphy2"
      ],
      "metadata": {
        "colab": {
          "base_uri": "https://localhost:8080/"
        },
        "id": "uti7jUMt7g7T",
        "outputId": "5897bc52-e37d-4ad4-fba3-5265da245323"
      },
      "execution_count": 2,
      "outputs": [
        {
          "output_type": "stream",
          "name": "stdout",
          "text": [
            "Collecting pymorphy2\n",
            "  Downloading pymorphy2-0.9.1-py3-none-any.whl (55 kB)\n",
            "\u001b[?25l     \u001b[90m━━━━━━━━━━━━━━━━━━━━━━━━━━━━━━━━━━━━━━━━\u001b[0m \u001b[32m0.0/55.5 kB\u001b[0m \u001b[31m?\u001b[0m eta \u001b[36m-:--:--\u001b[0m\r\u001b[2K     \u001b[91m━━━━━━━━━━━━━━━━━━━━━━━━━━━━━━━━━━━━\u001b[0m\u001b[91m╸\u001b[0m\u001b[90m━━━\u001b[0m \u001b[32m51.2/55.5 kB\u001b[0m \u001b[31m1.5 MB/s\u001b[0m eta \u001b[36m0:00:01\u001b[0m\r\u001b[2K     \u001b[90m━━━━━━━━━━━━━━━━━━━━━━━━━━━━━━━━━━━━━━━━\u001b[0m \u001b[32m55.5/55.5 kB\u001b[0m \u001b[31m1.2 MB/s\u001b[0m eta \u001b[36m0:00:00\u001b[0m\n",
            "\u001b[?25hCollecting dawg-python>=0.7.1 (from pymorphy2)\n",
            "  Downloading DAWG_Python-0.7.2-py2.py3-none-any.whl (11 kB)\n",
            "Collecting pymorphy2-dicts-ru<3.0,>=2.4 (from pymorphy2)\n",
            "  Downloading pymorphy2_dicts_ru-2.4.417127.4579844-py2.py3-none-any.whl (8.2 MB)\n",
            "\u001b[2K     \u001b[90m━━━━━━━━━━━━━━━━━━━━━━━━━━━━━━━━━━━━━━━━\u001b[0m \u001b[32m8.2/8.2 MB\u001b[0m \u001b[31m41.7 MB/s\u001b[0m eta \u001b[36m0:00:00\u001b[0m\n",
            "\u001b[?25hCollecting docopt>=0.6 (from pymorphy2)\n",
            "  Downloading docopt-0.6.2.tar.gz (25 kB)\n",
            "  Preparing metadata (setup.py) ... \u001b[?25l\u001b[?25hdone\n",
            "Building wheels for collected packages: docopt\n",
            "  Building wheel for docopt (setup.py) ... \u001b[?25l\u001b[?25hdone\n",
            "  Created wheel for docopt: filename=docopt-0.6.2-py2.py3-none-any.whl size=13706 sha256=53994591246690e777afa0e07bb5f7a47dc02218a3d77c6f3199e4928aba58c7\n",
            "  Stored in directory: /root/.cache/pip/wheels/fc/ab/d4/5da2067ac95b36618c629a5f93f809425700506f72c9732fac\n",
            "Successfully built docopt\n",
            "Installing collected packages: pymorphy2-dicts-ru, docopt, dawg-python, pymorphy2\n",
            "Successfully installed dawg-python-0.7.2 docopt-0.6.2 pymorphy2-0.9.1 pymorphy2-dicts-ru-2.4.417127.4579844\n"
          ]
        }
      ]
    },
    {
      "cell_type": "code",
      "source": [
        "import os\n",
        "import glob\n",
        "import re\n",
        "import pandas as pd\n",
        "import numpy as np\n",
        "import pingouin as pg\n",
        "from scipy import stats\n",
        "import pymorphy2\n",
        "\n",
        "# Путь к папке с уровнями CEFR\n",
        "cefr_levels = [\"A1\", \"A2\", \"B1\", \"B2\"]\n",
        "\n",
        "# Изменение имени файла\n",
        "dictionary_file = \"cleaned_tihonov (5).txt\"\n",
        "\n",
        "# Инициализация pymorphy\n",
        "morph = pymorphy2.MorphAnalyzer()\n",
        "\n",
        "# Считываем словарь морфем\n",
        "morpheme_dictionary = {}\n",
        "with open(dictionary_file, 'r', encoding='utf-8') as dict_file:\n",
        "    for line in dict_file:\n",
        "        line = line.strip()\n",
        "        if line:\n",
        "            word, morphemes = line.split()  # Используем split без аргументов для автоматического разделения по пробелам или табуляции\n",
        "            morpheme_count = morphemes.count('/') + morphemes.count('(') + 1  # Считаем и символы '/' и '('\n",
        "            morpheme_dictionary[word.lower()] = morpheme_count\n",
        "\n",
        "# Список для хранения данных\n",
        "data = []\n",
        "\n",
        "# Список для хранения уникальных лемм в каждом файле\n",
        "unique_lemmas_per_file = []\n",
        "\n",
        "# Обработка каждого уровня CEFR\n",
        "for cefr_level in cefr_levels:\n",
        "    folder_path = f\"/content/Students_texts/{cefr_level}\"\n",
        "    file_list = glob.glob(os.path.join(folder_path, \"*.txt\"))\n",
        "\n",
        "    avg_morpheme_counts = []\n",
        "\n",
        "    # Обработка каждого файла в текущем уровне CEFR\n",
        "    for file_path in file_list:\n",
        "        with open(file_path, 'r', encoding='utf-8') as file:\n",
        "            text = file.read()\n",
        "            tokens = re.findall(r'\\b\\w+\\b', text)\n",
        "\n",
        "            unique_lemmas = set()  # Инициализируем множество для хранения уникальных лемм в текущем файле\n",
        "\n",
        "            # Находим уникальные леммы в текущем файле\n",
        "            for token in tokens:\n",
        "                lemma = morph.parse(token)[0].normal_form\n",
        "                if re.match(r'^[а-яА-Я]+$', lemma):  # Проверяем, является ли лемма кириллической\n",
        "                    unique_lemmas.add(lemma)\n",
        "\n",
        "            unique_lemmas_per_file.append(unique_lemmas)  # Добавляем множество уникальных лемм в список\n",
        "\n",
        "            # Создаем множество всех уникальных лемм из всех файлов\n",
        "            all_unique_lemmas = set().union(*unique_lemmas_per_file)\n",
        "\n",
        "            # Находим уникальные леммы, не совпадающие со словарем морфем\n",
        "            non_matching_lemmas_unique = len(all_unique_lemmas - set(morpheme_dictionary.keys()))\n",
        "\n",
        "            # Обработка каждого файла для подсчета количества морфем у уникальных лемм\n",
        "            total_morpheme_count = 0\n",
        "            for lemma in unique_lemmas:\n",
        "                if lemma in morpheme_dictionary:\n",
        "                    morpheme_count = morpheme_dictionary[lemma]\n",
        "                    total_morpheme_count += morpheme_count\n",
        "\n",
        "            # Среднее количество морфем для файла\n",
        "            avg_morpheme_count = total_morpheme_count / len(unique_lemmas) if unique_lemmas else 0\n",
        "            avg_morpheme_counts.append(avg_morpheme_count)\n",
        "\n",
        "            # Добавляем данные в список для анализа\n",
        "            data.append((cefr_level, avg_morpheme_count))\n",
        "\n",
        "    # Добавляем средние значения в общий список\n",
        "    avg_morpheme_counts_all.extend(avg_morpheme_counts)\n",
        "\n",
        "# Вычисляем статистики для количества морфем во всех файлах\n",
        "mean_morpheme_count_all = np.mean(avg_morpheme_counts_all)\n",
        "sd_morpheme_count_all = np.std(avg_morpheme_counts_all)\n",
        "std_error_morpheme_count_all = stats.sem(avg_morpheme_counts_all)\n",
        "ci_morpheme_count_all = stats.t.interval(0.95, len(avg_morpheme_counts_all) - 1, loc=mean_morpheme_count_all, scale=std_error_morpheme_count_all)\n",
        "\n",
        "# Выводим статистики для количества морфем во всех файлах\n",
        "print(\"Статистики для количества морфем во всех файлах:\")\n",
        "print(f\"Mean: {mean_morpheme_count_all}\")\n",
        "print(f\"SD: {sd_morpheme_count_all}\")\n",
        "print(f\"Std. Error: {std_error_morpheme_count_all}\")\n",
        "print(f\"95% CI (confidence interval) (mean): {ci_morpheme_count_all}\")\n",
        "\n",
        "# Выводим количество лемм, не совпадающих со словарем морфем\n",
        "print(f\"Количество лемм, не совпадающих со словарем морфем: {non_matching_lemmas_unique}\")\n",
        "\n",
        "# Создаем DataFrame\n",
        "df = pd.DataFrame(data, columns=['CEFR Level', 'Avg Morpheme Count'])\n",
        "\n",
        "# ANOVA\n",
        "anova_result = pg.anova(data=df, dv='Avg Morpheme Count', between='CEFR Level')\n",
        "\n",
        "# Тест Геймса-Хауэлла\n",
        "games_howell_result = pg.pairwise_gameshowell(data=df, dv='Avg Morpheme Count', between='CEFR Level')\n",
        "\n",
        "# Вывод результатов\n",
        "print(f\"F-статистика (ANOVA): {anova_result['F'][0]}\")\n",
        "print(f\"p-value (ANOVA): {anova_result['p-unc'][0]}\")\n",
        "\n",
        "print(\"\\nGames-Howell Test Results:\")\n",
        "print(games_howell_result)"
      ],
      "metadata": {
        "id": "QKnMBseh7utk",
        "outputId": "31e1f372-f2cc-4e23-fd68-07dab5c2c5c3",
        "colab": {
          "base_uri": "https://localhost:8080/"
        }
      },
      "execution_count": 17,
      "outputs": [
        {
          "output_type": "stream",
          "name": "stdout",
          "text": [
            "Статистики для количества морфем во всех файлах:\n",
            "Mean: 2.236688458670682\n",
            "SD: 0.13242433547058843\n",
            "Std. Error: 1.1430947220059942e-05\n",
            "95% CI (confidence interval) (mean): (2.236666054425619, 2.2367108629157446)\n",
            "Количество лемм, не совпадающих со словарем морфем: 2278\n",
            "F-статистика (ANOVA): 166.23167123723076\n",
            "p-value (ANOVA): 9.118209353197132e-89\n",
            "\n",
            "Games-Howell Test Results:\n",
            "    A   B   mean(A)   mean(B)      diff        se          T          df  \\\n",
            "0  A1  A2  1.788852  1.978918 -0.190066  0.040389  -4.705880   67.541553   \n",
            "1  A1  B1  1.788852  2.127423 -0.338571  0.040041  -8.455687   65.252897   \n",
            "2  A1  B2  1.788852  2.240244 -0.451392  0.041116 -10.978615   72.315759   \n",
            "3  A2  B1  1.978918  2.127423 -0.148505  0.010445 -14.217170  834.226292   \n",
            "4  A2  B2  1.978918  2.240244 -0.261326  0.014012 -18.649753  274.697171   \n",
            "5  B1  B2  2.127423  2.240244 -0.112821  0.012974  -8.696019  212.870315   \n",
            "\n",
            "           pval    hedges  \n",
            "0  7.534428e-05 -0.966799  \n",
            "1  2.638956e-11 -2.009505  \n",
            "2  0.000000e+00 -2.159490  \n",
            "3  0.000000e+00 -0.951199  \n",
            "4  0.000000e+00 -1.589954  \n",
            "5  0.000000e+00 -0.830153  \n"
          ]
        }
      ]
    },
    {
      "cell_type": "code",
      "source": [
        "import os\n",
        "import glob\n",
        "import re\n",
        "import pymorphy2\n",
        "\n",
        "# Изменение имени файла\n",
        "dictionary_file = \"cleaned_tihonov (5).txt\"\n",
        "\n",
        "# Инициализация pymorphy\n",
        "morph = pymorphy2.MorphAnalyzer()\n",
        "\n",
        "# Считываем словарь морфем\n",
        "morpheme_dictionary = {}\n",
        "with open(dictionary_file, 'r', encoding='utf-8') as dict_file:\n",
        "    for line in dict_file:\n",
        "        line = line.strip()\n",
        "        if line:\n",
        "            word, morphemes = line.split()  # Используем split без аргументов для автоматического разделения по пробелам или табуляции\n",
        "            morpheme_count = morphemes.count('/') + morphemes.count('(') + 1  # Считаем и символы '/' и '('\n",
        "            morpheme_dictionary[word.lower()] = morpheme_count\n",
        "\n",
        "# Путь к папке с уровнями CEFR\n",
        "cefr_levels = [\"A1\", \"A2\", \"B1\", \"B2\"]\n",
        "\n",
        "# Создаем множество для хранения уникальных лемм, совпадающих со словарем морфем\n",
        "matching_lemmas_set = set()\n",
        "\n",
        "# Обработка каждого уровня CEFR\n",
        "for cefr_level in cefr_levels:\n",
        "    folder_path = f\"/content/Students_texts/{cefr_level}\"\n",
        "    file_list = glob.glob(os.path.join(folder_path, \"*.txt\"))\n",
        "\n",
        "    # Обработка каждого файла в текущем уровне CEFR\n",
        "    for file_path in file_list:\n",
        "        with open(file_path, 'r', encoding='utf-8') as file:\n",
        "            text = file.read()\n",
        "            tokens = re.findall(r'\\b\\w+\\b', text)\n",
        "\n",
        "            # Вычисляем уникальные леммы, совпадающие со словарем морфем\n",
        "            matching_lemmas_in_file = {morph.parse(token)[0].normal_form for token in tokens if morph.parse(token)[0].normal_form in morpheme_dictionary}\n",
        "\n",
        "            # Добавляем уникальные леммы в множество\n",
        "            matching_lemmas_set.update(matching_lemmas_in_file)\n",
        "\n",
        "# Количество уникальных лемм, совпадающих со словарем морфем\n",
        "matching_lemmas_count = len(matching_lemmas_set)\n",
        "\n",
        "# Выводим количество лемм, совпадающих со словарем морфем\n",
        "print(f\"Количество уникальных лемм, совпадающих со словарем морфем: {matching_lemmas_count}\")"
      ],
      "metadata": {
        "colab": {
          "base_uri": "https://localhost:8080/"
        },
        "id": "biFqKV3q-1ks",
        "outputId": "f1bfd85f-18c6-49b5-d3db-98c402a91dc1"
      },
      "execution_count": 18,
      "outputs": [
        {
          "output_type": "stream",
          "name": "stdout",
          "text": [
            "Количество уникальных лемм, совпадающих со словарем морфем: 5184\n"
          ]
        }
      ]
    },
    {
      "cell_type": "code",
      "source": [
        "import os\n",
        "import glob\n",
        "import re\n",
        "import pandas as pd\n",
        "import pymorphy2\n",
        "\n",
        "# Инициализация pymorphy\n",
        "morph = pymorphy2.MorphAnalyzer()\n",
        "\n",
        "# Путь к папке с уровнями CEFR\n",
        "cefr_levels = [\"A1\", \"A2\", \"B1\", \"B2\"]\n",
        "\n",
        "# Список для хранения уникальных несовпадающих лемм по каждому уровню CEFR\n",
        "unique_non_matching_lemmas_per_cefr_level = []\n",
        "\n",
        "# Обработка каждого уровня CEFR\n",
        "for cefr_level in cefr_levels:\n",
        "    folder_path = f\"/content/Students_texts/{cefr_level}\"\n",
        "    file_list = glob.glob(os.path.join(folder_path, \"*.txt\"))\n",
        "\n",
        "    # Список для хранения уникальных несовпадающих лемм по текущему уровню CEFR\n",
        "    unique_non_matching_lemmas = set()\n",
        "\n",
        "    # Обработка каждого файла в текущем уровне CEFR\n",
        "    for file_path in file_list:\n",
        "        with open(file_path, 'r', encoding='utf-8') as file:\n",
        "            text = file.read()\n",
        "            tokens = re.findall(r'\\b\\w+\\b', text)\n",
        "\n",
        "            # Находим уникальные леммы, не совпадающие со словарем морфем, в текущем файле\n",
        "            non_matching_lemmas = {morph.parse(token)[0].normal_form for token in tokens if morph.parse(token)[0].normal_form not in morpheme_dictionary}\n",
        "\n",
        "            # Добавляем уникальные леммы в список для текущего уровня CEFR\n",
        "            unique_non_matching_lemmas.update(non_matching_lemmas)\n",
        "\n",
        "    # Добавляем список уникальных несовпадающих лемм в список для всех уровней CEFR\n",
        "    unique_non_matching_lemmas_per_cefr_level.append(unique_non_matching_lemmas)\n",
        "\n",
        "# Вычисление общего количества уникальных несовпадающих лемм для всех уровней CEFR\n",
        "total_unique_non_matching_lemmas = set().union(*unique_non_matching_lemmas_per_cefr_level)\n",
        "\n",
        "# Вычисление процента уникальных несовпадающих лемм относительно всех токенов для всех уровней CEFR\n",
        "total_tokens = sum(len(re.findall(r'\\b\\w+\\b', open(file_path, 'r', encoding='utf-8').read())) for file_path in glob.glob(\"/content/Students_texts/*/*.txt\"))\n",
        "non_matching_tokens = sum(len(tokens) for tokens in unique_non_matching_lemmas_per_cefr_level)\n",
        "non_matching_percentage = (non_matching_tokens / total_tokens) * 100 if total_tokens > 0 else 0\n",
        "\n",
        "# Запись результатов в файл\n",
        "with open(\"statistics.txt\", \"w\", encoding=\"utf-8\") as stat_file:\n",
        "    stat_file.write(\"Уникальные несовпадающие леммы:\\n\")\n",
        "    for lemma in total_unique_non_matching_lemmas:\n",
        "        stat_file.write(lemma + \"\\n\")\n",
        "    stat_file.write(f\"\\nПроцент уникальных несовпадающих лемм относительно всех токенов: {non_matching_percentage:.2f}%\\n\")\n",
        "\n",
        "print(\"Статистика сохранена в файле 'statistics.txt'.\")"
      ],
      "metadata": {
        "id": "frS-Scizt_wz",
        "outputId": "f9f8851f-3711-4ff7-e7ad-ff559c4febc0",
        "colab": {
          "base_uri": "https://localhost:8080/"
        }
      },
      "execution_count": 19,
      "outputs": [
        {
          "output_type": "stream",
          "name": "stdout",
          "text": [
            "Статистика сохранена в файле 'statistics.txt'.\n"
          ]
        }
      ]
    },
    {
      "cell_type": "code",
      "source": [
        "import matplotlib.pyplot as plt\n",
        "import numpy as np\n",
        "\n",
        "# Результаты теста Геймса-Хауэла\n",
        "games_howell_result = pd.DataFrame({\n",
        "    'A': ['Group 1', 'Group 1', 'Group 1', 'Group 2', 'Group 2', 'Group 3'],\n",
        "    'B': ['Group 2', 'Group 3', 'Group 4', 'Group 3', 'Group 4', 'Group 4'],\n",
        "    'mean(A)': [1.788852, 1.788852, 1.788852, 1.978918, 1.978918, 2.127423],\n",
        "    'mean(B)': [1.978918, 2.127423, 2.240244, 2.127423, 2.240244, 2.240244],\n",
        "    'diff': [-0.190066, -0.338571, -0.451392, -0.148505, -0.261326, -0.112821],\n",
        "    'se': [0.040389, 0.040041, 0.041116, 0.010445, 0.014012, 0.012974],\n",
        "    'T': [-4.705880, -8.455687, -10.978615, -14.217170, -18.649753, -8.696019],\n",
        "    'df': [67.541553, 65.252897, 72.315759, 834.226292, 274.697171, 212.870315],\n",
        "    'pval': [7.534428e-05, 2.638956e-11, 0.000000e+00, 0.000000e+00, 0.000000e+00, 0.000000e+00],\n",
        "    'hedges': [-0.966799, -2.009505, -2.159490, -0.951199, -1.589954, -0.830153]\n",
        "})\n",
        "\n",
        "# Расчет доверительных интервалов\n",
        "z_score = 1.96\n",
        "conf_intervals = [\n",
        "    (md - z_score * s, md + z_score * s) for md, s in zip(games_howell_result['diff'], games_howell_result['se'])\n",
        "]\n",
        "\n",
        "# Построение графика\n",
        "plt.figure(figsize=(10, 6))\n",
        "for i, (group, ci, p, h) in enumerate(\n",
        "    zip(games_howell_result['A'] + ' vs ' + games_howell_result['B'], conf_intervals, games_howell_result['pval'], games_howell_result['hedges'])\n",
        "):\n",
        "    plt.plot(ci, [i, i], color=\"skyblue\")\n",
        "    plt.scatter(games_howell_result['diff'].iloc[i], i, color=\"blue\")\n",
        "    plt.text(games_howell_result['diff'].iloc[i] + 0.05, i, f\"p={p:.2e}\\nHedges' g={h:.2f}\", va='center')\n",
        "\n",
        "# Элементы оформления\n",
        "plt.yticks(range(len(games_howell_result)), games_howell_result['A'] + ' vs ' + games_howell_result['B'])\n",
        "plt.axvline(0, color='grey', linestyle='--')\n",
        "plt.xlabel(\"Mean Difference\")\n",
        "plt.title(\"Games-Howell Posthoc Test Results\")\n",
        "plt.grid(True)\n",
        "plt.show()"
      ],
      "metadata": {
        "id": "hhaJcQfW8lnf",
        "outputId": "e6e04248-cb50-40d4-a584-b32cacc75ce9",
        "colab": {
          "base_uri": "https://localhost:8080/",
          "height": 564
        }
      },
      "execution_count": 20,
      "outputs": [
        {
          "output_type": "display_data",
          "data": {
            "text/plain": [
              "<Figure size 1000x600 with 1 Axes>"
            ],
            "image/png": "[encoded data removed]"
          },
          "metadata": {}
        }
      ]
    }
  ]
}