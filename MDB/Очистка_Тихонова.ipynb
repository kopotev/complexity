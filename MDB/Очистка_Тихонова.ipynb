{
  "nbformat": 4,
  "nbformat_minor": 0,
  "metadata": {
    "colab": {
      "provenance": [],
      "authorship_tag": "ABX9TyOcWJayxqnwgCckwKAoYZ+C",
      "include_colab_link": true
    },
    "kernelspec": {
      "name": "python3",
      "display_name": "Python 3"
    },
    "language_info": {
      "name": "python"
    }
  },
  "cells": [
    {
      "cell_type": "markdown",
      "metadata": {
        "id": "view-in-github",
        "colab_type": "text"
      },
      "source": [
        "<a href=\"https://colab.research.google.com/github/Vakhranev/MDB/blob/main/%D0%9E%D1%87%D0%B8%D1%81%D1%82%D0%BA%D0%B0_%D0%A2%D0%B8%D1%85%D0%BE%D0%BD%D0%BE%D0%B2%D0%B0.ipynb\" target=\"_parent\"><img src=\"https://colab.research.google.com/assets/colab-badge.svg\" alt=\"Open In Colab\"/></a>"
      ]
    },
    {
      "cell_type": "code",
      "execution_count": 7,
      "metadata": {
        "id": "Z8bKDSj8rwCl"
      },
      "outputs": [],
      "source": [
        "import re\n",
        "\n",
        "def clean_text(input_file, output_file):\n",
        "    with open(input_file, 'r') as f:\n",
        "        lines = f.readlines()\n",
        "\n",
        "    cleaned_lines = []\n",
        "    prev_token = None\n",
        "\n",
        "    for line in lines:\n",
        "        # Приводим строку к нижнему регистру\n",
        "        line = line.lower().strip()\n",
        "\n",
        "        # Удаляем цифры\n",
        "        line = re.sub(r'\\b\\d+\\b', '', line)\n",
        "\n",
        "        # Удаляем строки, в которых первый токен содержит точки\n",
        "        if '.' in line.split()[0]:\n",
        "            continue\n",
        "\n",
        "        # Удаляем набор символов в скобках, не совпадающий с \"ся\"\n",
        "        line = re.sub(r'\\([^)]*(?<!ся)\\)', '', line)\n",
        "\n",
        "        # Оставляем только первые два токена\n",
        "        tokens = line.split()[:2]\n",
        "        line = ' '.join(tokens)\n",
        "\n",
        "        # Проверяем на совпадение с предыдущей строкой\n",
        "        if tokens[0] == prev_token:\n",
        "            continue\n",
        "        else:\n",
        "            prev_token = tokens[0]\n",
        "\n",
        "        # Если есть скобки только с \"ся\", обработаем их\n",
        "        if '(' in tokens[0] and 'ся' in tokens[0]:\n",
        "            bracket_content_search = re.search(r'\\((.*?)\\)', tokens[0])\n",
        "            if bracket_content_search:\n",
        "                bracket_content = bracket_content_search.group(1)\n",
        "                if bracket_content == 'ся':\n",
        "                    # Добавляем строку без скобок\n",
        "                    cleaned_lines.append(tokens[0].replace('(', '').replace(')', '') + ' ' + tokens[1])\n",
        "                    # Добавляем строку без скобок и содержимого скобок\n",
        "                    cleaned_lines.append(tokens[0].replace('(', '').replace(')', '').replace(bracket_content, '') + ' ' + tokens[1].replace('(', '').replace(')', '').replace(bracket_content, ''))\n",
        "                    continue\n",
        "\n",
        "        # Проверяем длину второго токена и удаляем строку, если она меньше длины первого токена\n",
        "        if len(tokens[1]) < len(tokens[0]):\n",
        "            continue\n",
        "\n",
        "        # Добавляем очищенную строку\n",
        "        cleaned_lines.append(line)\n",
        "\n",
        "    with open(output_file, 'w') as f:\n",
        "        f.write('\\n'.join(cleaned_lines))\n",
        "\n",
        "# Пример использования\n",
        "clean_text('tihonov-1.txt', 'cleaned_tihonov.txt')"
      ]
    }
  ]
}