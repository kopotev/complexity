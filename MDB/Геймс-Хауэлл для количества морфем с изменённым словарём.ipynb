{
  "nbformat": 4,
  "nbformat_minor": 0,
  "metadata": {
    "colab": {
      "provenance": [],
      "authorship_tag": "ABX9TyOW7ev7+LoFdkLYwworqBqd",
      "include_colab_link": true
    },
    "kernelspec": {
      "name": "python3",
      "display_name": "Python 3"
    },
    "language_info": {
      "name": "python"
    }
  },
  "cells": [
    {
      "cell_type": "markdown",
      "metadata": {
        "id": "view-in-github",
        "colab_type": "text"
      },
      "source": [
        "<a href=\"https://colab.research.google.com/github/Vakhranev/MDB/blob/main/%D0%93%D0%B5%D0%B9%D0%BC%D1%81-%D0%A5%D0%B0%D1%83%D1%8D%D0%BB%D0%BB%20%D0%B4%D0%BB%D1%8F%20%D0%BA%D0%BE%D0%BB%D0%B8%D1%87%D0%B5%D1%81%D1%82%D0%B2%D0%B0%20%D0%BC%D0%BE%D1%80%D1%84%D0%B5%D0%BC%20%D1%81%20%D0%B8%D0%B7%D0%BC%D0%B5%D0%BD%D1%91%D0%BD%D0%BD%D1%8B%D0%BC%20%D1%81%D0%BB%D0%BE%D0%B2%D0%B0%D1%80%D1%91%D0%BC.ipynb\" target=\"_parent\"><img src=\"https://colab.research.google.com/assets/colab-badge.svg\" alt=\"Open In Colab\"/></a>"
      ]
    },
    {
      "cell_type": "code",
      "source": [
        "!pip install pingouin"
      ],
      "metadata": {
        "colab": {
          "base_uri": "https://localhost:8080/"
        },
        "id": "Xi6jGTdU7dH7",
        "outputId": "7488001f-e640-423a-cae9-0575ab517101"
      },
      "execution_count": 1,
      "outputs": [
        {
          "output_type": "stream",
          "name": "stdout",
          "text": [
            "Collecting pingouin\n",
            "  Downloading pingouin-0.5.4-py2.py3-none-any.whl (198 kB)\n",
            "\u001b[?25l     \u001b[90m━━━━━━━━━━━━━━━━━━━━━━━━━━━━━━━━━━━━━━━━\u001b[0m \u001b[32m0.0/198.9 kB\u001b[0m \u001b[31m?\u001b[0m eta \u001b[36m-:--:--\u001b[0m\r\u001b[2K     \u001b[91m━━━━━━━━━━━━━━━━━━━━━━━━━━━━\u001b[0m\u001b[91m╸\u001b[0m\u001b[90m━━━━━━━━━━━\u001b[0m \u001b[32m143.4/198.9 kB\u001b[0m \u001b[31m4.3 MB/s\u001b[0m eta \u001b[36m0:00:01\u001b[0m\r\u001b[2K     \u001b[90m━━━━━━━━━━━━━━━━━━━━━━━━━━━━━━━━━━━━━━━━\u001b[0m \u001b[32m198.9/198.9 kB\u001b[0m \u001b[31m4.2 MB/s\u001b[0m eta \u001b[36m0:00:00\u001b[0m\n",
            "\u001b[?25hRequirement already satisfied: numpy in /usr/local/lib/python3.10/dist-packages (from pingouin) (1.25.2)\n",
            "Requirement already satisfied: scipy in /usr/local/lib/python3.10/dist-packages (from pingouin) (1.11.4)\n",
            "Requirement already satisfied: pandas>=1.5 in /usr/local/lib/python3.10/dist-packages (from pingouin) (1.5.3)\n",
            "Requirement already satisfied: matplotlib in /usr/local/lib/python3.10/dist-packages (from pingouin) (3.7.1)\n",
            "Requirement already satisfied: seaborn in /usr/local/lib/python3.10/dist-packages (from pingouin) (0.13.1)\n",
            "Requirement already satisfied: statsmodels in /usr/local/lib/python3.10/dist-packages (from pingouin) (0.14.1)\n",
            "Requirement already satisfied: scikit-learn in /usr/local/lib/python3.10/dist-packages (from pingouin) (1.2.2)\n",
            "Collecting pandas-flavor (from pingouin)\n",
            "  Downloading pandas_flavor-0.6.0-py3-none-any.whl (7.2 kB)\n",
            "Requirement already satisfied: tabulate in /usr/local/lib/python3.10/dist-packages (from pingouin) (0.9.0)\n",
            "Requirement already satisfied: python-dateutil>=2.8.1 in /usr/local/lib/python3.10/dist-packages (from pandas>=1.5->pingouin) (2.8.2)\n",
            "Requirement already satisfied: pytz>=2020.1 in /usr/local/lib/python3.10/dist-packages (from pandas>=1.5->pingouin) (2023.4)\n",
            "Requirement already satisfied: contourpy>=1.0.1 in /usr/local/lib/python3.10/dist-packages (from matplotlib->pingouin) (1.2.0)\n",
            "Requirement already satisfied: cycler>=0.10 in /usr/local/lib/python3.10/dist-packages (from matplotlib->pingouin) (0.12.1)\n",
            "Requirement already satisfied: fonttools>=4.22.0 in /usr/local/lib/python3.10/dist-packages (from matplotlib->pingouin) (4.50.0)\n",
            "Requirement already satisfied: kiwisolver>=1.0.1 in /usr/local/lib/python3.10/dist-packages (from matplotlib->pingouin) (1.4.5)\n",
            "Requirement already satisfied: packaging>=20.0 in /usr/local/lib/python3.10/dist-packages (from matplotlib->pingouin) (24.0)\n",
            "Requirement already satisfied: pillow>=6.2.0 in /usr/local/lib/python3.10/dist-packages (from matplotlib->pingouin) (9.4.0)\n",
            "Requirement already satisfied: pyparsing>=2.3.1 in /usr/local/lib/python3.10/dist-packages (from matplotlib->pingouin) (3.1.2)\n",
            "Requirement already satisfied: xarray in /usr/local/lib/python3.10/dist-packages (from pandas-flavor->pingouin) (2023.7.0)\n",
            "Requirement already satisfied: joblib>=1.1.1 in /usr/local/lib/python3.10/dist-packages (from scikit-learn->pingouin) (1.3.2)\n",
            "Requirement already satisfied: threadpoolctl>=2.0.0 in /usr/local/lib/python3.10/dist-packages (from scikit-learn->pingouin) (3.3.0)\n",
            "Requirement already satisfied: patsy>=0.5.4 in /usr/local/lib/python3.10/dist-packages (from statsmodels->pingouin) (0.5.6)\n",
            "Requirement already satisfied: six in /usr/local/lib/python3.10/dist-packages (from patsy>=0.5.4->statsmodels->pingouin) (1.16.0)\n",
            "Installing collected packages: pandas-flavor, pingouin\n",
            "Successfully installed pandas-flavor-0.6.0 pingouin-0.5.4\n"
          ]
        }
      ]
    },
    {
      "cell_type": "code",
      "source": [
        "!pip install pymorphy2"
      ],
      "metadata": {
        "colab": {
          "base_uri": "https://localhost:8080/"
        },
        "id": "uti7jUMt7g7T",
        "outputId": "5897bc52-e37d-4ad4-fba3-5265da245323"
      },
      "execution_count": 2,
      "outputs": [
        {
          "output_type": "stream",
          "name": "stdout",
          "text": [
            "Collecting pymorphy2\n",
            "  Downloading pymorphy2-0.9.1-py3-none-any.whl (55 kB)\n",
            "\u001b[?25l     \u001b[90m━━━━━━━━━━━━━━━━━━━━━━━━━━━━━━━━━━━━━━━━\u001b[0m \u001b[32m0.0/55.5 kB\u001b[0m \u001b[31m?\u001b[0m eta \u001b[36m-:--:--\u001b[0m\r\u001b[2K     \u001b[91m━━━━━━━━━━━━━━━━━━━━━━━━━━━━━━━━━━━━\u001b[0m\u001b[91m╸\u001b[0m\u001b[90m━━━\u001b[0m \u001b[32m51.2/55.5 kB\u001b[0m \u001b[31m1.5 MB/s\u001b[0m eta \u001b[36m0:00:01\u001b[0m\r\u001b[2K     \u001b[90m━━━━━━━━━━━━━━━━━━━━━━━━━━━━━━━━━━━━━━━━\u001b[0m \u001b[32m55.5/55.5 kB\u001b[0m \u001b[31m1.2 MB/s\u001b[0m eta \u001b[36m0:00:00\u001b[0m\n",
            "\u001b[?25hCollecting dawg-python>=0.7.1 (from pymorphy2)\n",
            "  Downloading DAWG_Python-0.7.2-py2.py3-none-any.whl (11 kB)\n",
            "Collecting pymorphy2-dicts-ru<3.0,>=2.4 (from pymorphy2)\n",
            "  Downloading pymorphy2_dicts_ru-2.4.417127.4579844-py2.py3-none-any.whl (8.2 MB)\n",
            "\u001b[2K     \u001b[90m━━━━━━━━━━━━━━━━━━━━━━━━━━━━━━━━━━━━━━━━\u001b[0m \u001b[32m8.2/8.2 MB\u001b[0m \u001b[31m41.7 MB/s\u001b[0m eta \u001b[36m0:00:00\u001b[0m\n",
            "\u001b[?25hCollecting docopt>=0.6 (from pymorphy2)\n",
            "  Downloading docopt-0.6.2.tar.gz (25 kB)\n",
            "  Preparing metadata (setup.py) ... \u001b[?25l\u001b[?25hdone\n",
            "Building wheels for collected packages: docopt\n",
            "  Building wheel for docopt (setup.py) ... \u001b[?25l\u001b[?25hdone\n",
            "  Created wheel for docopt: filename=docopt-0.6.2-py2.py3-none-any.whl size=13706 sha256=53994591246690e777afa0e07bb5f7a47dc02218a3d77c6f3199e4928aba58c7\n",
            "  Stored in directory: /root/.cache/pip/wheels/fc/ab/d4/5da2067ac95b36618c629a5f93f809425700506f72c9732fac\n",
            "Successfully built docopt\n",
            "Installing collected packages: pymorphy2-dicts-ru, docopt, dawg-python, pymorphy2\n",
            "Successfully installed dawg-python-0.7.2 docopt-0.6.2 pymorphy2-0.9.1 pymorphy2-dicts-ru-2.4.417127.4579844\n"
          ]
        }
      ]
    },
    {
      "cell_type": "code",
      "source": [
        "import os\n",
        "import glob\n",
        "import re\n",
        "import pandas as pd\n",
        "import numpy as np\n",
        "import pingouin as pg\n",
        "from scipy import stats\n",
        "import pymorphy2\n",
        "\n",
        "# Путь к папке с уровнями CEFR\n",
        "cefr_levels = [\"A1\", \"A2\", \"B1\", \"B2\"]\n",
        "\n",
        "# Изменение имени файла\n",
        "dictionary_file = \"cleaned_tihonov (5).txt\"\n",
        "\n",
        "# Инициализация pymorphy\n",
        "morph = pymorphy2.MorphAnalyzer()\n",
        "\n",
        "# Считываем словарь морфем\n",
        "morpheme_dictionary = {}\n",
        "with open(dictionary_file, 'r', encoding='utf-8') as dict_file:\n",
        "    for line in dict_file:\n",
        "        line = line.strip()\n",
        "        if line:\n",
        "            word, morphemes = line.split()  # Используем split без аргументов для автоматического разделения по пробелам или табуляции\n",
        "            morpheme_count = morphemes.count('/') + morphemes.count('(') + 1  # Считаем и символы '/' и '('\n",
        "            morpheme_dictionary[word.lower()] = morpheme_count\n",
        "\n",
        "# Список для хранения данных\n",
        "data = []\n",
        "# Переменная для хранения количества лемм, которые не совпадают со словарем морфем\n",
        "non_matching_lemmas = 0\n",
        "\n",
        "# Список для хранения среднего количества морфем в каждом файле\n",
        "avg_morpheme_counts_all = []\n",
        "\n",
        "# Обработка каждого уровня CEFR\n",
        "for cefr_level in cefr_levels:\n",
        "    folder_path = f\"/content/Students_texts/{cefr_level}\"\n",
        "    file_list = glob.glob(os.path.join(folder_path, \"*.txt\"))\n",
        "\n",
        "    avg_morpheme_counts = []\n",
        "\n",
        "    # Обработка каждого файла в текущем уровне CEFR\n",
        "    for file_path in file_list:\n",
        "        with open(file_path, 'r', encoding='utf-8') as file:\n",
        "            text = file.read()\n",
        "            tokens = re.findall(r'\\b\\w+\\b', text)\n",
        "\n",
        "            total_morpheme_count = 0\n",
        "            token_count = 0\n",
        "\n",
        "            # Вычисляем количество морфем для каждого токена\n",
        "            for token in tokens:\n",
        "                # Лемматизируем токен\n",
        "                lemma = morph.parse(token)[0].normal_form\n",
        "                # Проверяем наличие леммы в словаре морфем\n",
        "                if lemma in morpheme_dictionary:\n",
        "                    morpheme_count = morpheme_dictionary[lemma]\n",
        "                    total_morpheme_count += morpheme_count\n",
        "                    token_count += 1\n",
        "                else:\n",
        "                    # Если лемма не найдена в словаре морфем, увеличиваем счетчик\n",
        "                    non_matching_lemmas += 1\n",
        "\n",
        "            # Среднее количество морфем для файла\n",
        "            avg_morpheme_count = total_morpheme_count / token_count if token_count > 0 else 0\n",
        "            avg_morpheme_counts.append(avg_morpheme_count)\n",
        "\n",
        "            # Добавляем данные в список для анализа\n",
        "            data.append((cefr_level, avg_morpheme_count))\n",
        "\n",
        "    # Добавляем средние значения в общий список\n",
        "    avg_morpheme_counts_all.extend(avg_morpheme_counts)\n",
        "\n",
        "# Вычисляем статистики для количества морфем во всех файлах\n",
        "mean_morpheme_count_all = np.mean(avg_morpheme_counts_all)\n",
        "sd_morpheme_count_all = np.std(avg_morpheme_counts_all)\n",
        "std_error_morpheme_count_all = stats.sem(avg_morpheme_counts_all)\n",
        "ci_morpheme_count_all = stats.t.interval(0.95, len(avg_morpheme_counts_all) - 1, loc=mean_morpheme_count_all, scale=std_error_morpheme_count_all)\n",
        "\n",
        "# Выводим статистики для количества морфем во всех файлах\n",
        "print(\"Статистики для количества морфем во всех файлах:\")\n",
        "print(f\"Mean: {mean_morpheme_count_all}\")\n",
        "print(f\"SD: {sd_morpheme_count_all}\")\n",
        "print(f\"Std. Error: {std_error_morpheme_count_all}\")\n",
        "print(f\"95% CI (confidence interval) (mean): {ci_morpheme_count_all}\")\n",
        "\n",
        "# Выводим количество лемм, не совпадающих со словарем морфем\n",
        "print(f\"Количество лемм, не совпадающих со словарем морфем: {non_matching_lemmas}\")\n",
        "\n",
        "# Создаем DataFrame\n",
        "df = pd.DataFrame(data, columns=['CEFR Level', 'Avg Morpheme Count'])\n",
        "\n",
        "# ANOVA\n",
        "anova_result = pg.anova(data=df, dv='Avg Morpheme Count', between='CEFR Level')\n",
        "\n",
        "# Тест Геймса-Хауэлла\n",
        "games_howell_result = pg.pairwise_gameshowell(data=df, dv='Avg Morpheme Count', between='CEFR Level')\n",
        "\n",
        "# Вывод результатов\n",
        "print(f\"F-статистика (ANOVA): {anova_result['F'][0]}\")\n",
        "print(f\"p-value (ANOVA): {anova_result['p-unc'][0]}\")\n",
        "\n",
        "print(\"\\nGames-Howell Test Results:\")\n",
        "print(games_howell_result)"
      ],
      "metadata": {
        "id": "QKnMBseh7utk",
        "outputId": "7f37329d-9785-4a1e-dff5-fcf9c0788d22",
        "colab": {
          "base_uri": "https://localhost:8080/"
        }
      },
      "execution_count": 3,
      "outputs": [
        {
          "output_type": "stream",
          "name": "stdout",
          "text": [
            "Статистики для количества морфем во всех файлах:\n",
            "Mean: 1.943525022540918\n",
            "SD: 0.1511766762097267\n",
            "Std. Error: 0.004566458504725922\n",
            "95% CI (confidence interval) (mean): (1.9345650335831786, 1.9524850114986574)\n",
            "Количество лемм, не совпадающих со словарем морфем: 10566\n",
            "F-статистика (ANOVA): 61.70423633125592\n",
            "p-value (ANOVA): 7.416191335432879e-37\n",
            "\n",
            "Games-Howell Test Results:\n",
            "    A   B   mean(A)   mean(B)      diff        se          T          df  \\\n",
            "0  A1  A2  1.863577  1.891214 -0.027637  0.028527  -0.968796   68.607578   \n",
            "1  A1  B1  1.863577  1.972342 -0.108765  0.028509  -3.815126   68.437834   \n",
            "2  A1  B2  1.863577  2.057177 -0.193600  0.030050  -6.442593   83.356313   \n",
            "3  A2  B1  1.891214  1.972342 -0.081129  0.008924  -9.091344  902.992190   \n",
            "4  A2  B2  1.891214  2.057177 -0.165963  0.013033 -12.733663  210.775512   \n",
            "5  B1  B2  1.972342  2.057177 -0.084834  0.012994  -6.528715  208.881662   \n",
            "\n",
            "           pval    hedges  \n",
            "0  7.675553e-01 -0.188094  \n",
            "1  1.644505e-03 -0.732635  \n",
            "2  4.278586e-08 -1.171424  \n",
            "3  1.122435e-13 -0.603158  \n",
            "4  0.000000e+00 -1.256747  \n",
            "5  2.965679e-09 -0.631288  \n"
          ]
        }
      ]
    },
    {
      "cell_type": "code",
      "source": [
        "import os\n",
        "import glob\n",
        "import re\n",
        "import pymorphy2\n",
        "\n",
        "# Изменение имени файла\n",
        "dictionary_file = \"cleaned_tihonov (5).txt\"\n",
        "\n",
        "# Инициализация pymorphy\n",
        "morph = pymorphy2.MorphAnalyzer()\n",
        "\n",
        "# Считываем словарь морфем\n",
        "morpheme_dictionary = {}\n",
        "with open(dictionary_file, 'r', encoding='utf-8') as dict_file:\n",
        "    for line in dict_file:\n",
        "        line = line.strip()\n",
        "        if line:\n",
        "            word, morphemes = line.split()  # Используем split без аргументов для автоматического разделения по пробелам или табуляции\n",
        "            morpheme_count = morphemes.count('/') + morphemes.count('(') + 1  # Считаем и символы '/' и '('\n",
        "            morpheme_dictionary[word.lower()] = morpheme_count\n",
        "\n",
        "# Путь к папке с уровнями CEFR\n",
        "cefr_levels = [\"A1\", \"A2\", \"B1\", \"B2\"]\n",
        "\n",
        "# Переменная для хранения количества лемм, совпадающих со словарем морфем\n",
        "matching_lemmas = 0\n",
        "\n",
        "# Обработка каждого уровня CEFR\n",
        "for cefr_level in cefr_levels:\n",
        "    folder_path = f\"/content/Students_texts/{cefr_level}\"\n",
        "    file_list = glob.glob(os.path.join(folder_path, \"*.txt\"))\n",
        "\n",
        "    # Обработка каждого файла в текущем уровне CEFR\n",
        "    for file_path in file_list:\n",
        "        with open(file_path, 'r', encoding='utf-8') as file:\n",
        "            text = file.read()\n",
        "            tokens = re.findall(r'\\b\\w+\\b', text)\n",
        "\n",
        "            # Вычисляем количество лемм, совпадающих со словарем морфем\n",
        "            for token in tokens:\n",
        "                # Лемматизируем токен\n",
        "                lemma = morph.parse(token)[0].normal_form\n",
        "                # Проверяем совпадение леммы со словарем морфем\n",
        "                if lemma in morpheme_dictionary:\n",
        "                    matching_lemmas += 1\n",
        "\n",
        "# Выводим количество лемм, совпадающих со словарем морфем\n",
        "print(f\"Количество лемм, совпадающих со словарем морфем: {matching_lemmas}\")"
      ],
      "metadata": {
        "colab": {
          "base_uri": "https://localhost:8080/"
        },
        "id": "biFqKV3q-1ks",
        "outputId": "be819d1b-6e43-4158-cbde-125d78bcdd89"
      },
      "execution_count": 4,
      "outputs": [
        {
          "output_type": "stream",
          "name": "stdout",
          "text": [
            "Количество лемм, совпадающих со словарем морфем: 177061\n"
          ]
        }
      ]
    },
    {
      "cell_type": "code",
      "source": [
        "import os\n",
        "import glob\n",
        "import re\n",
        "import pandas as pd\n",
        "import pymorphy2\n",
        "\n",
        "# Инициализация pymorphy\n",
        "morph = pymorphy2.MorphAnalyzer()\n",
        "\n",
        "# Путь к папке с уровнями CEFR\n",
        "cefr_levels = [\"A1\", \"A2\", \"B1\", \"B2\"]\n",
        "\n",
        "# Открываем файл для записи статистики\n",
        "with open(\"statistics.txt\", \"w\", encoding=\"utf-8\") as stat_file:\n",
        "    # Обработка каждого уровня CEFR\n",
        "    for cefr_level in cefr_levels:\n",
        "        folder_path = f\"/content/Students_texts/{cefr_level}\"\n",
        "        file_list = glob.glob(os.path.join(folder_path, \"*.txt\"))\n",
        "\n",
        "        file_non_matching_percentage = {}\n",
        "\n",
        "        total_tokens = 0\n",
        "        non_matching_tokens = 0\n",
        "\n",
        "        # Открываем файл для записи статистики по текущему уровню CEFR\n",
        "        stat_file.write(f\"Статистика для уровня {cefr_level}:\\n\")\n",
        "\n",
        "        # Обработка каждого файла в текущем уровне CEFR\n",
        "        for file_path in file_list:\n",
        "            with open(file_path, 'r', encoding='utf-8') as file:\n",
        "                text = file.read()\n",
        "                tokens = re.findall(r'\\b\\w+\\b', text)\n",
        "\n",
        "                total_tokens += len(tokens)\n",
        "\n",
        "                # Список для хранения несовпадающих лемм в текущем файле\n",
        "                non_matching_lemmas = []\n",
        "\n",
        "                # Счетчик лемм, не совпадающих со словарем морфем\n",
        "                non_matching_tokens_file = 0\n",
        "\n",
        "                # Проверка каждого токена на совпадение со словарем морфем\n",
        "                for token in tokens:\n",
        "                    lemma = morph.parse(token)[0].normal_form\n",
        "                    if lemma not in morpheme_dictionary:\n",
        "                        non_matching_lemmas.append(lemma)\n",
        "                        non_matching_tokens_file += 1\n",
        "                        non_matching_tokens += 1\n",
        "\n",
        "                # Вычисление процента несовпадающих лемм в файле\n",
        "                non_matching_percentage_file = (non_matching_tokens_file / len(tokens)) * 100 if len(tokens) > 0 else 0\n",
        "\n",
        "                # Запись статистики для текущего файла в файл\n",
        "                stat_file.write(f\"Файл: {file_path}, Процент несовпадающих лемм: {non_matching_percentage_file:.2f}%\\n\")\n",
        "\n",
        "                # Запись несовпадающих лемм в файл\n",
        "                stat_file.write(\"Несовпадающие леммы:\\n\")\n",
        "                for lemma in non_matching_lemmas:\n",
        "                    stat_file.write(lemma + \"\\n\")\n",
        "                stat_file.write(\"\\n\")\n",
        "\n",
        "        # Вычисление общего процента несовпадающих лемм для уровня CEFR\n",
        "        total_non_matching_percentage = (non_matching_tokens / total_tokens) * 100 if total_tokens > 0 else 0\n",
        "\n",
        "        # Запись общего процента несовпадающих лемм для уровня CEFR в файл\n",
        "        stat_file.write(f\"Общий процент несовпадающих лемм для уровня {cefr_level}: {total_non_matching_percentage:.2f}%\\n\\n\")\n",
        "\n",
        "print(\"Статистика сохранена в файле 'statistics.txt'.\")"
      ],
      "metadata": {
        "id": "frS-Scizt_wz",
        "outputId": "bd11d42e-ded6-460f-94c6-6d7b8b0962ea",
        "colab": {
          "base_uri": "https://localhost:8080/"
        }
      },
      "execution_count": 5,
      "outputs": [
        {
          "output_type": "stream",
          "name": "stdout",
          "text": [
            "Статистика сохранена в файле 'statistics.txt'.\n"
          ]
        }
      ]
    },
    {
      "cell_type": "code",
      "source": [
        "import matplotlib.pyplot as plt\n",
        "import numpy as np\n",
        "\n",
        "# Результаты теста Геймса-Хауэла\n",
        "games_howell_result = pd.DataFrame({\n",
        "    'A': ['Group 1', 'Group 1', 'Group 1', 'Group 2', 'Group 2', 'Group 3'],\n",
        "    'B': ['Group 2', 'Group 3', 'Group 4', 'Group 3', 'Group 4', 'Group 4'],\n",
        "    'mean(A)': [2.104739, 2.104739, 2.104739, 2.110420, 2.110420, 2.199335],\n",
        "    'mean(B)': [2.110420, 2.199335, 2.300146, 2.199335, 2.300146, 2.300146],\n",
        "    'diff': [-0.005681, -0.094596, -0.195407, -0.088915, -0.189726, -0.100811],\n",
        "    'se': [0.030446, 0.030168, 0.031869, 0.010274, 0.014529, 0.013937],\n",
        "    'T': [-0.186591, -3.135628, -6.131542, -8.654024, -13.058617, -7.233102],\n",
        "    'df': [71.024903, 68.493248, 84.086064, 872.226850, 238.437431, 206.751464],\n",
        "    'pval': [9.976739e-01, 1.317339e-02, 1.622001e-07, 1.240119e-13, 0.000000e+00, 5.405698e-11],\n",
        "    'hedges': [-0.032613, -0.600399, -1.109972, -0.577046, -1.196744, -0.704384]\n",
        "})\n",
        "\n",
        "# Расчет доверительных интервалов\n",
        "z_score = 1.96\n",
        "conf_intervals = [\n",
        "    (md - z_score * s, md + z_score * s) for md, s in zip(games_howell_result['diff'], games_howell_result['se'])\n",
        "]\n",
        "\n",
        "# Построение графика\n",
        "plt.figure(figsize=(10, 6))\n",
        "for i, (group, ci, p, h) in enumerate(\n",
        "    zip(games_howell_result['A'] + ' vs ' + games_howell_result['B'], conf_intervals, games_howell_result['pval'], games_howell_result['hedges'])\n",
        "):\n",
        "    plt.plot(ci, [i, i], color=\"skyblue\")\n",
        "    plt.scatter(games_howell_result['diff'].iloc[i], i, color=\"blue\")\n",
        "    plt.text(games_howell_result['diff'].iloc[i] + 0.05, i, f\"p={p:.2e}\\nHedges' g={h:.2f}\", va='center')\n",
        "\n",
        "# Элементы оформления\n",
        "plt.yticks(range(len(games_howell_result)), games_howell_result['A'] + ' vs ' + games_howell_result['B'])\n",
        "plt.axvline(0, color='grey', linestyle='--')\n",
        "plt.xlabel(\"Mean Difference\")\n",
        "plt.title(\"Games-Howell Posthoc Test Results\")\n",
        "plt.grid(True)\n",
        "plt.show()"
      ],
      "metadata": {
        "id": "hhaJcQfW8lnf",
        "outputId": "192effc3-32d4-4aaf-920a-2e87b338e1d2",
        "colab": {
          "base_uri": "https://localhost:8080/",
          "height": 564
        }
      },
      "execution_count": 6,
      "outputs": [
        {
          "output_type": "display_data",
          "data": {
            "text/plain": [
              "<Figure size 1000x600 with 1 Axes>"
            ],
            "image/png": "[encoded data removed]"
          },
          "metadata": {}
        }
      ]
    }
  ]
}